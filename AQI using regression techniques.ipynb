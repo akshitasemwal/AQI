{
 "cells": [
  {
   "cell_type": "code",
   "execution_count": 2,
   "id": "27e23c9b",
   "metadata": {},
   "outputs": [],
   "source": [
    "import pandas as pd\n",
    "import seaborn as sb\n",
    "\n",
    "import warnings\n",
    "warnings.filterwarnings(\"ignore\")\n",
    "\n",
    "from scipy import stats\n",
    "import numpy as np\n",
    "\n",
    "from sklearn.model_selection import train_test_split, cross_val_score\n",
    "from sklearn.metrics import mean_absolute_error, mean_squared_error, r2_score \n",
    "\n",
    "\n",
    "from sklearn.preprocessing import StandardScaler"
   ]
  },
  {
   "cell_type": "code",
   "execution_count": 3,
   "id": "5ef18aeb",
   "metadata": {},
   "outputs": [
    {
     "data": {
      "text/html": [
       "<div>\n",
       "<style scoped>\n",
       "    .dataframe tbody tr th:only-of-type {\n",
       "        vertical-align: middle;\n",
       "    }\n",
       "\n",
       "    .dataframe tbody tr th {\n",
       "        vertical-align: top;\n",
       "    }\n",
       "\n",
       "    .dataframe thead th {\n",
       "        text-align: right;\n",
       "    }\n",
       "</style>\n",
       "<table border=\"1\" class=\"dataframe\">\n",
       "  <thead>\n",
       "    <tr style=\"text-align: right;\">\n",
       "      <th></th>\n",
       "      <th>City</th>\n",
       "      <th>Date</th>\n",
       "      <th>PM2.5</th>\n",
       "      <th>PM10</th>\n",
       "      <th>NO</th>\n",
       "      <th>NO2</th>\n",
       "      <th>NOx</th>\n",
       "      <th>NH3</th>\n",
       "      <th>CO</th>\n",
       "      <th>SO2</th>\n",
       "      <th>O3</th>\n",
       "      <th>AQI</th>\n",
       "    </tr>\n",
       "  </thead>\n",
       "  <tbody>\n",
       "    <tr>\n",
       "      <th>0</th>\n",
       "      <td>Delhi</td>\n",
       "      <td>01-01-2018</td>\n",
       "      <td>303.41</td>\n",
       "      <td>415.09</td>\n",
       "      <td>62.76</td>\n",
       "      <td>63.92</td>\n",
       "      <td>11.79</td>\n",
       "      <td>73.16</td>\n",
       "      <td>1.80</td>\n",
       "      <td>18.58</td>\n",
       "      <td>68.75</td>\n",
       "      <td>462</td>\n",
       "    </tr>\n",
       "    <tr>\n",
       "      <th>1</th>\n",
       "      <td>Delhi</td>\n",
       "      <td>01-02-2018</td>\n",
       "      <td>277.48</td>\n",
       "      <td>422.59</td>\n",
       "      <td>31.26</td>\n",
       "      <td>53.73</td>\n",
       "      <td>4.26</td>\n",
       "      <td>55.61</td>\n",
       "      <td>1.52</td>\n",
       "      <td>12.43</td>\n",
       "      <td>68.68</td>\n",
       "      <td>439</td>\n",
       "    </tr>\n",
       "    <tr>\n",
       "      <th>2</th>\n",
       "      <td>Delhi</td>\n",
       "      <td>01-03-2018</td>\n",
       "      <td>217.01</td>\n",
       "      <td>336.87</td>\n",
       "      <td>37.98</td>\n",
       "      <td>52.24</td>\n",
       "      <td>2.87</td>\n",
       "      <td>50.81</td>\n",
       "      <td>1.29</td>\n",
       "      <td>10.28</td>\n",
       "      <td>54.94</td>\n",
       "      <td>405</td>\n",
       "    </tr>\n",
       "    <tr>\n",
       "      <th>3</th>\n",
       "      <td>Delhi</td>\n",
       "      <td>01-04-2018</td>\n",
       "      <td>248.54</td>\n",
       "      <td>377.61</td>\n",
       "      <td>35.56</td>\n",
       "      <td>61.57</td>\n",
       "      <td>4.24</td>\n",
       "      <td>55.17</td>\n",
       "      <td>1.36</td>\n",
       "      <td>14.42</td>\n",
       "      <td>66.31</td>\n",
       "      <td>394</td>\n",
       "    </tr>\n",
       "    <tr>\n",
       "      <th>4</th>\n",
       "      <td>Delhi</td>\n",
       "      <td>01-05-2018</td>\n",
       "      <td>240.42</td>\n",
       "      <td>360.99</td>\n",
       "      <td>38.73</td>\n",
       "      <td>54.80</td>\n",
       "      <td>4.57</td>\n",
       "      <td>51.36</td>\n",
       "      <td>1.38</td>\n",
       "      <td>13.20</td>\n",
       "      <td>48.57</td>\n",
       "      <td>398</td>\n",
       "    </tr>\n",
       "  </tbody>\n",
       "</table>\n",
       "</div>"
      ],
      "text/plain": [
       "    City        Date   PM2.5    PM10     NO    NO2    NOx    NH3    CO    SO2  \\\n",
       "0  Delhi  01-01-2018  303.41  415.09  62.76  63.92  11.79  73.16  1.80  18.58   \n",
       "1  Delhi  01-02-2018  277.48  422.59  31.26  53.73   4.26  55.61  1.52  12.43   \n",
       "2  Delhi  01-03-2018  217.01  336.87  37.98  52.24   2.87  50.81  1.29  10.28   \n",
       "3  Delhi  01-04-2018  248.54  377.61  35.56  61.57   4.24  55.17  1.36  14.42   \n",
       "4  Delhi  01-05-2018  240.42  360.99  38.73  54.80   4.57  51.36  1.38  13.20   \n",
       "\n",
       "      O3  AQI  \n",
       "0  68.75  462  \n",
       "1  68.68  439  \n",
       "2  54.94  405  \n",
       "3  66.31  394  \n",
       "4  48.57  398  "
      ]
     },
     "execution_count": 3,
     "metadata": {},
     "output_type": "execute_result"
    }
   ],
   "source": [
    "df=pd.read_csv(r\"C:\\Users\\akshita\\Downloads\\DelhiAQI.csv\")\n",
    "df.head()"
   ]
  },
  {
   "cell_type": "code",
   "execution_count": 4,
   "id": "5cadad70",
   "metadata": {},
   "outputs": [
    {
     "name": "stdout",
     "output_type": "stream",
     "text": [
      "<class 'pandas.core.frame.DataFrame'>\n",
      "RangeIndex: 913 entries, 0 to 912\n",
      "Data columns (total 10 columns):\n",
      " #   Column  Non-Null Count  Dtype  \n",
      "---  ------  --------------  -----  \n",
      " 0   PM2.5   913 non-null    float64\n",
      " 1   PM10    913 non-null    float64\n",
      " 2   NO      913 non-null    float64\n",
      " 3   NO2     913 non-null    float64\n",
      " 4   NOx     913 non-null    float64\n",
      " 5   NH3     913 non-null    float64\n",
      " 6   CO      913 non-null    float64\n",
      " 7   SO2     913 non-null    float64\n",
      " 8   O3      913 non-null    float64\n",
      " 9   AQI     913 non-null    int64  \n",
      "dtypes: float64(9), int64(1)\n",
      "memory usage: 71.5 KB\n"
     ]
    },
    {
     "data": {
      "text/plain": [
       "PM2.5    0\n",
       "PM10     0\n",
       "NO       0\n",
       "NO2      0\n",
       "NOx      0\n",
       "NH3      0\n",
       "CO       0\n",
       "SO2      0\n",
       "O3       0\n",
       "AQI      0\n",
       "dtype: int64"
      ]
     },
     "execution_count": 4,
     "metadata": {},
     "output_type": "execute_result"
    }
   ],
   "source": [
    "df= df.drop(['City','Date'], axis=1)\n",
    "df.info()\n",
    "\n",
    "df.isna().sum()"
   ]
  },
  {
   "cell_type": "code",
   "execution_count": 5,
   "id": "4b1425bd",
   "metadata": {},
   "outputs": [
    {
     "data": {
      "text/html": [
       "<div>\n",
       "<style scoped>\n",
       "    .dataframe tbody tr th:only-of-type {\n",
       "        vertical-align: middle;\n",
       "    }\n",
       "\n",
       "    .dataframe tbody tr th {\n",
       "        vertical-align: top;\n",
       "    }\n",
       "\n",
       "    .dataframe thead th {\n",
       "        text-align: right;\n",
       "    }\n",
       "</style>\n",
       "<table border=\"1\" class=\"dataframe\">\n",
       "  <thead>\n",
       "    <tr style=\"text-align: right;\">\n",
       "      <th></th>\n",
       "      <th>PM2.5</th>\n",
       "      <th>PM10</th>\n",
       "      <th>NO</th>\n",
       "      <th>NO2</th>\n",
       "      <th>NOx</th>\n",
       "      <th>NH3</th>\n",
       "      <th>CO</th>\n",
       "      <th>SO2</th>\n",
       "      <th>O3</th>\n",
       "      <th>AQI</th>\n",
       "    </tr>\n",
       "  </thead>\n",
       "  <tbody>\n",
       "    <tr>\n",
       "      <th>count</th>\n",
       "      <td>913.000000</td>\n",
       "      <td>913.000000</td>\n",
       "      <td>913.00000</td>\n",
       "      <td>913.000000</td>\n",
       "      <td>913.000000</td>\n",
       "      <td>913.000000</td>\n",
       "      <td>913.000000</td>\n",
       "      <td>913.000000</td>\n",
       "      <td>913.000000</td>\n",
       "      <td>913.000000</td>\n",
       "    </tr>\n",
       "    <tr>\n",
       "      <th>mean</th>\n",
       "      <td>105.458171</td>\n",
       "      <td>213.439157</td>\n",
       "      <td>31.97747</td>\n",
       "      <td>43.098346</td>\n",
       "      <td>51.963604</td>\n",
       "      <td>38.338368</td>\n",
       "      <td>1.322881</td>\n",
       "      <td>13.852180</td>\n",
       "      <td>41.454918</td>\n",
       "      <td>228.813801</td>\n",
       "    </tr>\n",
       "    <tr>\n",
       "      <th>std</th>\n",
       "      <td>77.477643</td>\n",
       "      <td>116.910831</td>\n",
       "      <td>26.56564</td>\n",
       "      <td>15.931366</td>\n",
       "      <td>30.946864</td>\n",
       "      <td>9.813347</td>\n",
       "      <td>0.562686</td>\n",
       "      <td>4.226043</td>\n",
       "      <td>12.438408</td>\n",
       "      <td>113.960050</td>\n",
       "    </tr>\n",
       "    <tr>\n",
       "      <th>min</th>\n",
       "      <td>10.240000</td>\n",
       "      <td>19.510000</td>\n",
       "      <td>4.42000</td>\n",
       "      <td>14.360000</td>\n",
       "      <td>1.870000</td>\n",
       "      <td>19.900000</td>\n",
       "      <td>0.520000</td>\n",
       "      <td>6.180000</td>\n",
       "      <td>16.510000</td>\n",
       "      <td>51.000000</td>\n",
       "    </tr>\n",
       "    <tr>\n",
       "      <th>25%</th>\n",
       "      <td>49.960000</td>\n",
       "      <td>120.820000</td>\n",
       "      <td>13.19000</td>\n",
       "      <td>30.730000</td>\n",
       "      <td>29.360000</td>\n",
       "      <td>30.860000</td>\n",
       "      <td>0.930000</td>\n",
       "      <td>10.440000</td>\n",
       "      <td>31.560000</td>\n",
       "      <td>129.000000</td>\n",
       "    </tr>\n",
       "    <tr>\n",
       "      <th>50%</th>\n",
       "      <td>81.870000</td>\n",
       "      <td>193.790000</td>\n",
       "      <td>22.50000</td>\n",
       "      <td>41.230000</td>\n",
       "      <td>43.920000</td>\n",
       "      <td>36.610000</td>\n",
       "      <td>1.160000</td>\n",
       "      <td>13.250000</td>\n",
       "      <td>40.160000</td>\n",
       "      <td>208.000000</td>\n",
       "    </tr>\n",
       "    <tr>\n",
       "      <th>75%</th>\n",
       "      <td>137.290000</td>\n",
       "      <td>281.530000</td>\n",
       "      <td>40.92000</td>\n",
       "      <td>54.010000</td>\n",
       "      <td>66.400000</td>\n",
       "      <td>44.470000</td>\n",
       "      <td>1.520000</td>\n",
       "      <td>16.550000</td>\n",
       "      <td>50.560000</td>\n",
       "      <td>306.000000</td>\n",
       "    </tr>\n",
       "    <tr>\n",
       "      <th>max</th>\n",
       "      <td>582.280000</td>\n",
       "      <td>761.910000</td>\n",
       "      <td>158.63000</td>\n",
       "      <td>106.040000</td>\n",
       "      <td>195.810000</td>\n",
       "      <td>75.880000</td>\n",
       "      <td>3.660000</td>\n",
       "      <td>33.500000</td>\n",
       "      <td>76.320000</td>\n",
       "      <td>659.000000</td>\n",
       "    </tr>\n",
       "  </tbody>\n",
       "</table>\n",
       "</div>"
      ],
      "text/plain": [
       "            PM2.5        PM10         NO         NO2         NOx         NH3  \\\n",
       "count  913.000000  913.000000  913.00000  913.000000  913.000000  913.000000   \n",
       "mean   105.458171  213.439157   31.97747   43.098346   51.963604   38.338368   \n",
       "std     77.477643  116.910831   26.56564   15.931366   30.946864    9.813347   \n",
       "min     10.240000   19.510000    4.42000   14.360000    1.870000   19.900000   \n",
       "25%     49.960000  120.820000   13.19000   30.730000   29.360000   30.860000   \n",
       "50%     81.870000  193.790000   22.50000   41.230000   43.920000   36.610000   \n",
       "75%    137.290000  281.530000   40.92000   54.010000   66.400000   44.470000   \n",
       "max    582.280000  761.910000  158.63000  106.040000  195.810000   75.880000   \n",
       "\n",
       "               CO         SO2          O3         AQI  \n",
       "count  913.000000  913.000000  913.000000  913.000000  \n",
       "mean     1.322881   13.852180   41.454918  228.813801  \n",
       "std      0.562686    4.226043   12.438408  113.960050  \n",
       "min      0.520000    6.180000   16.510000   51.000000  \n",
       "25%      0.930000   10.440000   31.560000  129.000000  \n",
       "50%      1.160000   13.250000   40.160000  208.000000  \n",
       "75%      1.520000   16.550000   50.560000  306.000000  \n",
       "max      3.660000   33.500000   76.320000  659.000000  "
      ]
     },
     "execution_count": 5,
     "metadata": {},
     "output_type": "execute_result"
    }
   ],
   "source": [
    "df.describe()"
   ]
  },
  {
   "cell_type": "code",
   "execution_count": 6,
   "id": "ec72eb9a",
   "metadata": {},
   "outputs": [],
   "source": [
    "#df[['PM2.5','PM10','NO', 'NO2']].quantile(0.9)"
   ]
  },
  {
   "cell_type": "code",
   "execution_count": 7,
   "id": "4f3ed35f",
   "metadata": {},
   "outputs": [
    {
     "data": {
      "image/png": "[encoded data removed]",
      "text/plain": [
       "<Figure size 640x480 with 2 Axes>"
      ]
     },
     "metadata": {},
     "output_type": "display_data"
    }
   ],
   "source": [
    "dataplot=sb.heatmap(df.corr(),annot=True, cmap='YlGnBu')"
   ]
  },
  {
   "cell_type": "code",
   "execution_count": 8,
   "id": "31fc3ba3",
   "metadata": {},
   "outputs": [
    {
     "name": "stdout",
     "output_type": "stream",
     "text": [
      "(array([308, 311, 356, 357, 367, 381, 669, 671, 680, 681, 682, 683, 730],\n",
      "      dtype=int64),)\n",
      "(array([163, 164, 165, 669, 671, 683], dtype=int64),)\n",
      "(array([298, 299, 330, 331, 335, 336, 337, 338, 339, 353, 356, 357, 363,\n",
      "       375, 376, 384, 400, 703, 731], dtype=int64),)\n",
      "(array([ 40,  51, 384, 689, 703], dtype=int64),)\n"
     ]
    }
   ],
   "source": [
    "zscore1= np.abs(stats.zscore(df['PM2.5']))\n",
    "print(np.where(zscore1>3))\n",
    "\n",
    "zscore2= np.abs(stats.zscore(df['PM10']))\n",
    "print(np.where(zscore2>3))\n",
    "\n",
    "zscore3= np.abs(stats.zscore(df['NO']))\n",
    "print(np.where(zscore3>3))\n",
    "\n",
    "zscore4= np.abs(stats.zscore(df['NO2']))\n",
    "print(np.where(zscore4>3))"
   ]
  },
  {
   "cell_type": "code",
   "execution_count": 9,
   "id": "330b69bc",
   "metadata": {},
   "outputs": [],
   "source": [
    "for i in np.where((zscore1>3) | (zscore2>3) | (zscore3>3) | (zscore4>3)):\n",
    "    df.drop(i, inplace=True)"
   ]
  },
  {
   "cell_type": "code",
   "execution_count": 10,
   "id": "40670474",
   "metadata": {},
   "outputs": [
    {
     "name": "stdout",
     "output_type": "stream",
     "text": [
      "New dimensions: (877, 10)\n"
     ]
    },
    {
     "data": {
      "text/html": [
       "<div>\n",
       "<style scoped>\n",
       "    .dataframe tbody tr th:only-of-type {\n",
       "        vertical-align: middle;\n",
       "    }\n",
       "\n",
       "    .dataframe tbody tr th {\n",
       "        vertical-align: top;\n",
       "    }\n",
       "\n",
       "    .dataframe thead th {\n",
       "        text-align: right;\n",
       "    }\n",
       "</style>\n",
       "<table border=\"1\" class=\"dataframe\">\n",
       "  <thead>\n",
       "    <tr style=\"text-align: right;\">\n",
       "      <th></th>\n",
       "      <th>PM2.5</th>\n",
       "      <th>PM10</th>\n",
       "      <th>NO</th>\n",
       "      <th>NO2</th>\n",
       "      <th>NOx</th>\n",
       "      <th>NH3</th>\n",
       "      <th>CO</th>\n",
       "      <th>SO2</th>\n",
       "      <th>O3</th>\n",
       "      <th>AQI</th>\n",
       "    </tr>\n",
       "  </thead>\n",
       "  <tbody>\n",
       "    <tr>\n",
       "      <th>count</th>\n",
       "      <td>877.000000</td>\n",
       "      <td>877.000000</td>\n",
       "      <td>877.000000</td>\n",
       "      <td>877.000000</td>\n",
       "      <td>877.000000</td>\n",
       "      <td>877.000000</td>\n",
       "      <td>877.000000</td>\n",
       "      <td>877.000000</td>\n",
       "      <td>877.000000</td>\n",
       "      <td>877.000000</td>\n",
       "    </tr>\n",
       "    <tr>\n",
       "      <th>mean</th>\n",
       "      <td>97.768552</td>\n",
       "      <td>202.518563</td>\n",
       "      <td>29.394527</td>\n",
       "      <td>41.975268</td>\n",
       "      <td>49.113284</td>\n",
       "      <td>37.810034</td>\n",
       "      <td>1.267891</td>\n",
       "      <td>13.741334</td>\n",
       "      <td>41.451368</td>\n",
       "      <td>219.346636</td>\n",
       "    </tr>\n",
       "    <tr>\n",
       "      <th>std</th>\n",
       "      <td>66.085714</td>\n",
       "      <td>103.486409</td>\n",
       "      <td>22.297325</td>\n",
       "      <td>14.791660</td>\n",
       "      <td>26.740733</td>\n",
       "      <td>9.464780</td>\n",
       "      <td>0.483185</td>\n",
       "      <td>4.195496</td>\n",
       "      <td>12.611850</td>\n",
       "      <td>104.676086</td>\n",
       "    </tr>\n",
       "    <tr>\n",
       "      <th>min</th>\n",
       "      <td>10.240000</td>\n",
       "      <td>19.510000</td>\n",
       "      <td>4.420000</td>\n",
       "      <td>14.360000</td>\n",
       "      <td>1.870000</td>\n",
       "      <td>19.900000</td>\n",
       "      <td>0.520000</td>\n",
       "      <td>6.180000</td>\n",
       "      <td>16.510000</td>\n",
       "      <td>51.000000</td>\n",
       "    </tr>\n",
       "    <tr>\n",
       "      <th>25%</th>\n",
       "      <td>48.460000</td>\n",
       "      <td>117.660000</td>\n",
       "      <td>12.820000</td>\n",
       "      <td>30.460000</td>\n",
       "      <td>29.100000</td>\n",
       "      <td>30.720000</td>\n",
       "      <td>0.920000</td>\n",
       "      <td>10.420000</td>\n",
       "      <td>31.250000</td>\n",
       "      <td>127.000000</td>\n",
       "    </tr>\n",
       "    <tr>\n",
       "      <th>50%</th>\n",
       "      <td>78.400000</td>\n",
       "      <td>187.590000</td>\n",
       "      <td>21.370000</td>\n",
       "      <td>40.610000</td>\n",
       "      <td>42.630000</td>\n",
       "      <td>36.340000</td>\n",
       "      <td>1.140000</td>\n",
       "      <td>13.000000</td>\n",
       "      <td>40.180000</td>\n",
       "      <td>202.000000</td>\n",
       "    </tr>\n",
       "    <tr>\n",
       "      <th>75%</th>\n",
       "      <td>128.450000</td>\n",
       "      <td>270.870000</td>\n",
       "      <td>38.730000</td>\n",
       "      <td>52.700000</td>\n",
       "      <td>63.160000</td>\n",
       "      <td>43.540000</td>\n",
       "      <td>1.470000</td>\n",
       "      <td>16.390000</td>\n",
       "      <td>50.710000</td>\n",
       "      <td>294.000000</td>\n",
       "    </tr>\n",
       "    <tr>\n",
       "      <th>max</th>\n",
       "      <td>333.430000</td>\n",
       "      <td>516.850000</td>\n",
       "      <td>111.090000</td>\n",
       "      <td>85.560000</td>\n",
       "      <td>143.910000</td>\n",
       "      <td>75.880000</td>\n",
       "      <td>3.200000</td>\n",
       "      <td>33.500000</td>\n",
       "      <td>76.320000</td>\n",
       "      <td>532.000000</td>\n",
       "    </tr>\n",
       "  </tbody>\n",
       "</table>\n",
       "</div>"
      ],
      "text/plain": [
       "            PM2.5        PM10          NO         NO2         NOx         NH3  \\\n",
       "count  877.000000  877.000000  877.000000  877.000000  877.000000  877.000000   \n",
       "mean    97.768552  202.518563   29.394527   41.975268   49.113284   37.810034   \n",
       "std     66.085714  103.486409   22.297325   14.791660   26.740733    9.464780   \n",
       "min     10.240000   19.510000    4.420000   14.360000    1.870000   19.900000   \n",
       "25%     48.460000  117.660000   12.820000   30.460000   29.100000   30.720000   \n",
       "50%     78.400000  187.590000   21.370000   40.610000   42.630000   36.340000   \n",
       "75%    128.450000  270.870000   38.730000   52.700000   63.160000   43.540000   \n",
       "max    333.430000  516.850000  111.090000   85.560000  143.910000   75.880000   \n",
       "\n",
       "               CO         SO2          O3         AQI  \n",
       "count  877.000000  877.000000  877.000000  877.000000  \n",
       "mean     1.267891   13.741334   41.451368  219.346636  \n",
       "std      0.483185    4.195496   12.611850  104.676086  \n",
       "min      0.520000    6.180000   16.510000   51.000000  \n",
       "25%      0.920000   10.420000   31.250000  127.000000  \n",
       "50%      1.140000   13.000000   40.180000  202.000000  \n",
       "75%      1.470000   16.390000   50.710000  294.000000  \n",
       "max      3.200000   33.500000   76.320000  532.000000  "
      ]
     },
     "execution_count": 10,
     "metadata": {},
     "output_type": "execute_result"
    }
   ],
   "source": [
    "print(\"New dimensions:\", df.shape)\n",
    "df.describe()"
   ]
  },
  {
   "cell_type": "code",
   "execution_count": 11,
   "id": "d5fe4b94",
   "metadata": {},
   "outputs": [],
   "source": [
    "X= df.drop(['AQI'], axis=1)\n",
    "#X= df[['PM2.5', 'PM10', 'NO', 'NO2']]\n",
    "y= df[['AQI']]\n",
    "\n",
    "x_train, x_test, y_train, y_test= train_test_split(X, y, train_size=0.75, random_state=42)"
   ]
  },
  {
   "cell_type": "code",
   "execution_count": 12,
   "id": "92238cad",
   "metadata": {},
   "outputs": [],
   "source": [
    "scaler=StandardScaler()\n",
    "\n",
    "x_train_scaled=scaler.fit_transform(x_train)\n",
    "x_test_scaled=scaler.transform(x_test)\n",
    "y_train_scaled=scaler.fit_transform(y_train)\n",
    "\n",
    "#x_test_scaled\n",
    "#print(scaler.fit_transform(x_train))"
   ]
  },
  {
   "cell_type": "markdown",
   "id": "ecf38aea",
   "metadata": {},
   "source": [
    "<h3>Linear regression</h3>"
   ]
  },
  {
   "cell_type": "code",
   "execution_count": 13,
   "id": "ae713974",
   "metadata": {},
   "outputs": [
    {
     "name": "stdout",
     "output_type": "stream",
     "text": [
      "Absolute value of negative RMSE using cross validation: 33.75299534078218\n",
      "\n",
      "R2 score using cross validation: 0.8779617674087669\n",
      "\n",
      "MAE: 22.740863967333073  RMSE: 31.947221549682894  R2 Score: 0.9006762700108424\n"
     ]
    }
   ],
   "source": [
    "from sklearn.linear_model import LinearRegression\n",
    "\n",
    "model1=LinearRegression()\n",
    "model1.fit(x_train_scaled,y_train_scaled)\n",
    "y_pred1=model1.predict(x_test_scaled)\n",
    "y_pred1_inv=scaler.inverse_transform(y_pred1)\n",
    "\n",
    "accuracy1=cross_val_score(model1, X, y, cv=4, scoring='neg_root_mean_squared_error')\n",
    "print(\"Absolute value of negative RMSE using cross validation:\", abs(accuracy1.mean()))\n",
    "print(\"\")\n",
    "accuracy1=cross_val_score(model1, X, y, cv=4, scoring='r2')\n",
    "print(\"R2 score using cross validation:\", accuracy1.mean())\n",
    "print(\"\")\n",
    "mae1 = mean_absolute_error(y_test, y_pred1_inv) \n",
    "mse1 = mean_squared_error(y_test, y_pred1_inv) \n",
    "rmse1 = np.sqrt(mse1) \n",
    "r2_1 = r2_score(y_test, y_pred1_inv) \n",
    "print(\"MAE:\", mae1, \" RMSE:\", rmse1,\" R2 Score:\", r2_1)"
   ]
  },
  {
   "cell_type": "code",
   "execution_count": 14,
   "id": "5632711b",
   "metadata": {},
   "outputs": [
    {
     "name": "stdout",
     "output_type": "stream",
     "text": [
      "[ 0.34527286  0.65940287  1.16248476  1.51053728  1.28036329 -0.08275184\n",
      "  1.15049013  3.67882297  1.43568589]\n",
      "[0.49016737575255165, 0.507954209981326, -0.09702884694148, 0.042281312512283224, 0.07106827400675733, 0.04544937696160939, -0.06046625786368086, 0.0041305717248785265, -0.021206101495561295]\n",
      "0.982349914638684\n",
      "0.1692414894656645\n",
      "0.5041879534036627\n",
      "0.3913933978548799\n",
      "0.45526089680990434\n",
      "0.5462541057992814\n",
      "0.5424930862914153\n",
      "0.47292725347872666\n",
      "0.4881228956129786\n",
      "0.45767759498156185\n",
      "[0.45767759]\n",
      "[[266.11358774]]\n"
     ]
    }
   ],
   "source": [
    "l1= x_train_scaled[3,:]\n",
    "l2= model1.coef_.flatten().tolist()\n",
    "print(l1)\n",
    "print(l2)\n",
    "print(sum(l2))\n",
    "s1=0\n",
    "for (i,j) in zip(l1, l2):\n",
    "    s1=s1+(i* j)\n",
    "    print(s1)\n",
    "print(s1+model1.intercept_)    \n",
    "pr = model1.predict(l1.reshape(1,-1))\n",
    "print(scaler.inverse_transform(pr)) \n"
   ]
  },
  {
   "cell_type": "code",
   "execution_count": 15,
   "id": "ff3f9eee",
   "metadata": {},
   "outputs": [
    {
     "name": "stdout",
     "output_type": "stream",
     "text": [
      "[248.54 377.61  35.56  61.57   4.24  55.17   1.36  14.42  66.31]\n",
      "[0.7792560265261451, 0.5145973832447502, -0.4793080050590521, 0.3064181561718807, 0.290911845689906, 0.5007315546613937, -13.522647136872001, 0.10353630074655984, -0.1738833318333351]\n",
      "-11.680387206723752\n",
      "193.6762928328081\n",
      "387.9934107198582\n",
      "370.9492180599583\n",
      "389.815383935461\n",
      "391.0488501611862\n",
      "418.6742100318553\n",
      "400.28340992570935\n",
      "401.77640338247477\n",
      "390.2461996486063\n",
      "[419.43163988]\n",
      "[[419.43163988]]\n"
     ]
    }
   ],
   "source": [
    "mode=LinearRegression()\n",
    "mode.fit(x_train, y_train)\n",
    "\n",
    "l1= np.array(df.iloc[3, :9])\n",
    "l2= mode.coef_.flatten().tolist()\n",
    "print(l1)\n",
    "print(l2)\n",
    "print(sum(l2))\n",
    "s1=0\n",
    "for (i,j) in zip(l1, l2):\n",
    "    s1=s1+(i* j)\n",
    "    print(s1)\n",
    "print(s1+mode.intercept_)    \n",
    "print(mode.predict(l1.reshape(1,-1)))    "
   ]
  },
  {
   "cell_type": "code",
   "execution_count": 23,
   "id": "3c858425",
   "metadata": {},
   "outputs": [
    {
     "name": "stdout",
     "output_type": "stream",
     "text": [
      "[[-6726.10616427]]\n",
      "[[109.23280721]]\n"
     ]
    }
   ],
   "source": [
    " \n",
    "print(mode.predict(np.array([79, 195, 29.394527 , 12, 49.113284, 37.810034 , 513, 4, 19]).reshape(1,-1)))\n",
    "\n",
    "\n",
    "print(model1.predict(np.array([79, 195, 29.394527 , 12, 49.113284, 37.810034 , 513, 4, 19]).reshape(1,-1)))\n"
   ]
  },
  {
   "cell_type": "code",
   "execution_count": 55,
   "id": "c335417e",
   "metadata": {},
   "outputs": [
    {
     "name": "stdout",
     "output_type": "stream",
     "text": [
      "[29.18544024]\n"
     ]
    }
   ],
   "source": [
    "print(mode.intercept_)"
   ]
  },
  {
   "cell_type": "markdown",
   "id": "6b5498ef",
   "metadata": {},
   "source": [
    "<h3>Ridge Regression</h3>"
   ]
  },
  {
   "cell_type": "code",
   "execution_count": 13,
   "id": "acb9d0c5",
   "metadata": {},
   "outputs": [
    {
     "name": "stdout",
     "output_type": "stream",
     "text": [
      "Absolute value of negative RMSE using cross validation: 30.64485747332563\n",
      "\n",
      "R2 score using cross validation: 0.905956033613099\n",
      "\n",
      "MAE: 22.88232415550319  RMSE: 32.27263242227014  R2 Score: 0.898642563838716\n"
     ]
    }
   ],
   "source": [
    "from sklearn.linear_model import Ridge\n",
    "\n",
    "model2=Ridge()\n",
    "model2.fit(x_train_scaled,y_train_scaled)\n",
    "y_pred2=model2.predict(x_test_scaled)\n",
    "y_pred2_inv=scaler.inverse_transform(y_pred2)\n",
    "\n",
    "accuracy2=cross_val_score(model2, X, y, cv=4, scoring='neg_root_mean_squared_error')\n",
    "print(\"Absolute value of negative RMSE using cross validation:\", abs(accuracy2.mean()))\n",
    "print(\"\")\n",
    "accuracy2=cross_val_score(model2, X, y, cv=4, scoring='r2')\n",
    "print(\"R2 score using cross validation:\", accuracy2.mean())\n",
    "print(\"\")\n",
    "mae2 = mean_absolute_error(y_test, y_pred2_inv) \n",
    "mse2 = mean_squared_error(y_test, y_pred2_inv) \n",
    "rmse2 = np.sqrt(mse2) \n",
    "r2_2 = r2_score(y_test, y_pred2_inv) \n",
    "print(\"MAE:\", mae2, \" RMSE:\", rmse2,\" R2 Score:\", r2_2)"
   ]
  },
  {
   "cell_type": "markdown",
   "id": "542fc3d0",
   "metadata": {},
   "source": [
    "<h3>Lasso Regression</h3>"
   ]
  },
  {
   "cell_type": "code",
   "execution_count": 14,
   "id": "a22701dd",
   "metadata": {},
   "outputs": [
    {
     "name": "stdout",
     "output_type": "stream",
     "text": [
      "Absolute value of negative RMSE using cross validation: 30.64487160211541\n",
      "\n",
      "R2 score using cross validation: 0.9059559138528374\n",
      "\n",
      "MAE: 22.884294419840444  RMSE: 32.273744099601615  R2 Score: 0.8986355809125426\n"
     ]
    }
   ],
   "source": [
    "from sklearn.linear_model import Lasso\n",
    "\n",
    "model3=Lasso(alpha=0.0)\n",
    "model3.fit(x_train_scaled,y_train_scaled)\n",
    "y_pred3=model3.predict(x_test_scaled)\n",
    "y_pred3_inv=scaler.inverse_transform(y_pred3.reshape(-1, 1))\n",
    "\n",
    "accuracy3=cross_val_score(model3, X, y, cv=4, scoring='neg_root_mean_squared_error')\n",
    "print(\"Absolute value of negative RMSE using cross validation:\", abs(accuracy3.mean()))\n",
    "print(\"\")\n",
    "accuracy3=cross_val_score(model3, X, y, cv=4, scoring='r2')\n",
    "print(\"R2 score using cross validation:\", accuracy3.mean())\n",
    "print(\"\")\n",
    "mae3 = mean_absolute_error(y_test, y_pred3_inv) \n",
    "mse3 = mean_squared_error(y_test, y_pred3_inv) \n",
    "rmse3 = np.sqrt(mse3) \n",
    "r2_3 = r2_score(y_test, y_pred3_inv) \n",
    "print(\"MAE:\", mae3, \" RMSE:\", rmse3,\" R2 Score:\", r2_3)"
   ]
  },
  {
   "cell_type": "markdown",
   "id": "58d909b1",
   "metadata": {},
   "source": [
    "<h3>Random Forest</h3>"
   ]
  },
  {
   "cell_type": "code",
   "execution_count": 15,
   "id": "871b95de",
   "metadata": {},
   "outputs": [
    {
     "name": "stdout",
     "output_type": "stream",
     "text": [
      "0.9908072897000513\n",
      "\n",
      "Accuracy result is: 0.914640663957438\n",
      "\n",
      "MAE: 19.178545454545457  RMSE: 32.27374409960161  R2 Score: 0.9257244353991678\n"
     ]
    }
   ],
   "source": [
    "from sklearn.ensemble import RandomForestRegressor \n",
    " \n",
    "model4=RandomForestRegressor()\n",
    "model4.fit(x_train_scaled,y_train_scaled)\n",
    "y_pred4=model4.predict(x_test_scaled)\n",
    "y_pred4_inv=scaler.inverse_transform(y_pred4.reshape(-1, 1))\n",
    "print(model4.score(x_train_scaled,y_train_scaled))\n",
    "print(\"\")\n",
    "accuracy4=cross_val_score(model4, X, y, cv=4, scoring='r2')\n",
    "print(\"Accuracy result is:\", accuracy4.mean())\n",
    "print(\"\")\n",
    "\n",
    "mae4 = mean_absolute_error(y_test, y_pred4_inv) \n",
    "mse4 = mean_squared_error(y_test, y_pred4_inv) \n",
    "rmse4 = np.sqrt(mse1) \n",
    "r2_4 = r2_score(y_test, y_pred4_inv) \n",
    "print(\"MAE:\", mae4, \" RMSE:\", rmse4,\" R2 Score:\", r2_4)"
   ]
  },
  {
   "cell_type": "code",
   "execution_count": 47,
   "id": "9a3e567d",
   "metadata": {},
   "outputs": [
    {
     "name": "stdout",
     "output_type": "stream",
     "text": [
      "{'n_estimators': [200, 400, 600, 800], 'max_features': [None], 'max_depth': [3, 6], 'min_samples_leaf': [1, 2, 4]}\n",
      "\n"
     ]
    }
   ],
   "source": [
    "from sklearn.model_selection import RandomizedSearchCV\n",
    "\n",
    "n_estimators = [200, 400, 600, 800]\n",
    "max_features = [None]\n",
    "max_depth = [3,6]\n",
    "min_samples_leaf = [1, 2, 4]\n",
    "\n",
    "random_grid = {'n_estimators': n_estimators,\n",
    "               'max_features': max_features,\n",
    "               'max_depth': max_depth,\n",
    "               'min_samples_leaf': min_samples_leaf}\n",
    "print(random_grid)\n",
    "print(\"\")"
   ]
  },
  {
   "cell_type": "code",
   "execution_count": 60,
   "id": "bba333c4",
   "metadata": {},
   "outputs": [
    {
     "name": "stdout",
     "output_type": "stream",
     "text": [
      "Fitting 4 folds for each of 24 candidates, totalling 96 fits\n"
     ]
    },
    {
     "data": {
      "text/plain": [
       "RandomizedSearchCV(cv=4, estimator=RandomForestRegressor(), n_iter=100,\n",
       "                   n_jobs=-1,\n",
       "                   param_distributions={'max_depth': [3, 6],\n",
       "                                        'max_features': [None],\n",
       "                                        'min_samples_leaf': [1, 2, 4],\n",
       "                                        'n_estimators': [200, 400, 600, 800]},\n",
       "                   random_state=42, verbose=2)"
      ]
     },
     "execution_count": 60,
     "metadata": {},
     "output_type": "execute_result"
    }
   ],
   "source": [
    "rf = RandomForestRegressor()\n",
    "rf_random = RandomizedSearchCV(estimator = rf, param_distributions = random_grid, n_iter = 100, cv = 4, verbose=2, random_state=42, n_jobs = -1)\n",
    "rf_random.fit(x_train_scaled, y_train_scaled)"
   ]
  },
  {
   "cell_type": "code",
   "execution_count": 61,
   "id": "4ecb008f",
   "metadata": {},
   "outputs": [
    {
     "name": "stdout",
     "output_type": "stream",
     "text": [
      "Best parameters: {'n_estimators': 400, 'min_samples_leaf': 2, 'max_features': None, 'max_depth': 6}\n"
     ]
    },
    {
     "data": {
      "text/plain": [
       "0.9364902574206773"
      ]
     },
     "execution_count": 61,
     "metadata": {},
     "output_type": "execute_result"
    }
   ],
   "source": [
    "print(\"Best parameters:\",rf_random.best_params_)\n",
    "rf_random.best_score_"
   ]
  },
  {
   "cell_type": "code",
   "execution_count": 53,
   "id": "a42cdfa6",
   "metadata": {},
   "outputs": [
    {
     "data": {
      "text/plain": [
       "RandomForestRegressor(n_estimators=10, random_state=42)"
      ]
     },
     "execution_count": 53,
     "metadata": {},
     "output_type": "execute_result"
    }
   ],
   "source": [
    "base_model = RandomForestRegressor(n_estimators = 10, random_state = 42)\n",
    "base_model.fit(x_train_scaled, y_train_scaled)"
   ]
  },
  {
   "cell_type": "code",
   "execution_count": 57,
   "id": "5c2d2b7b",
   "metadata": {},
   "outputs": [
    {
     "name": "stdout",
     "output_type": "stream",
     "text": [
      "Model Performance\n",
      "Accuracy = 0.91%.\n",
      "\n",
      "Model Performance\n",
      "Accuracy = 0.93%.\n",
      "\n",
      "Improvement of 1.31%.\n"
     ]
    }
   ],
   "source": [
    "def evaluate(model, x_train_scaled, y_train_scaled):\n",
    "    predictions = model.predict(x_test_scaled)\n",
    "    y_pred_inv=scaler.inverse_transform(predictions.reshape(-1, 1))\n",
    "    accuracy = r2_score(y_test, y_pred_inv)\n",
    "    print('Model Performance')\n",
    "    print('Accuracy = {:0.2f}%.'.format(accuracy))\n",
    "    print(\"\")\n",
    "    return accuracy\n",
    "\n",
    "base_accuracy = evaluate(base_model, x_train_scaled, y_train_scaled)\n",
    "\n",
    "best_random = rf_random.best_estimator_\n",
    "random_accuracy = evaluate(best_random, x_train_scaled, y_train_scaled)\n",
    "\n",
    "print('Improvement of {:0.2f}%.'.format( 100 * (random_accuracy - base_accuracy) / base_accuracy))\n"
   ]
  },
  {
   "cell_type": "markdown",
   "id": "7555a991",
   "metadata": {},
   "source": [
    "# Bayesian Linear Regression"
   ]
  },
  {
   "cell_type": "code",
   "execution_count": null,
   "id": "0272f974",
   "metadata": {},
   "outputs": [],
   "source": [
    "from sklearn.linear_model import BayesianRidge\n",
    "\n",
    "model5=BayesianRidge()\n",
    "model5.fit(x_train_scaled,y_train)\n",
    "y_pred5=model5.predict(x_test_scaled)\n",
    "\n",
    "print(model5.score(x_train_scaled,y_train)*100)\n",
    "print(\"\")\n",
    "accuracy5=cross_val_score(model5, X, y)\n",
    "print(\"Accuracy result is:\", accuracy5.mean()*100)\n",
    "print(\"\")"
   ]
  }
 ],
 "metadata": {
  "kernelspec": {
   "display_name": "Python 3 (ipykernel)",
   "language": "python",
   "name": "python3"
  },
  "language_info": {
   "codemirror_mode": {
    "name": "ipython",
    "version": 3
   },
   "file_extension": ".py",
   "mimetype": "text/x-python",
   "name": "python",
   "nbconvert_exporter": "python",
   "pygments_lexer": "ipython3",
   "version": "3.9.13"
  }
 },
 "nbformat": 4,
 "nbformat_minor": 5
}
