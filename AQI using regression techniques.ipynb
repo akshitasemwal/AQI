{
 "cells": [
  {
   "cell_type": "code",
   "execution_count": 5,
   "id": "27e23c9b",
   "metadata": {},
   "outputs": [],
   "source": [
    "import numpy as np\n",
    "import pandas as pd\n",
    "import matplotlib.pyplot as plt\n",
    "import seaborn as sns\n",
    "from scipy import stats\n",
    "\n",
    "import warnings\n",
    "warnings.filterwarnings(\"ignore\")"
   ]
  },
  {
   "cell_type": "code",
   "execution_count": 6,
   "id": "5ef18aeb",
   "metadata": {},
   "outputs": [
    {
     "data": {
      "text/html": [
       "<div>\n",
       "<style scoped>\n",
       "    .dataframe tbody tr th:only-of-type {\n",
       "        vertical-align: middle;\n",
       "    }\n",
       "\n",
       "    .dataframe tbody tr th {\n",
       "        vertical-align: top;\n",
       "    }\n",
       "\n",
       "    .dataframe thead th {\n",
       "        text-align: right;\n",
       "    }\n",
       "</style>\n",
       "<table border=\"1\" class=\"dataframe\">\n",
       "  <thead>\n",
       "    <tr style=\"text-align: right;\">\n",
       "      <th></th>\n",
       "      <th>City</th>\n",
       "      <th>Date</th>\n",
       "      <th>PM2.5</th>\n",
       "      <th>PM10</th>\n",
       "      <th>NO</th>\n",
       "      <th>NO2</th>\n",
       "      <th>NOx</th>\n",
       "      <th>NH3</th>\n",
       "      <th>CO</th>\n",
       "      <th>SO2</th>\n",
       "      <th>O3</th>\n",
       "      <th>AQI</th>\n",
       "    </tr>\n",
       "  </thead>\n",
       "  <tbody>\n",
       "    <tr>\n",
       "      <th>0</th>\n",
       "      <td>Delhi</td>\n",
       "      <td>01-01-2018</td>\n",
       "      <td>303.41</td>\n",
       "      <td>415.09</td>\n",
       "      <td>62.76</td>\n",
       "      <td>63.92</td>\n",
       "      <td>11.79</td>\n",
       "      <td>73.16</td>\n",
       "      <td>1.80</td>\n",
       "      <td>18.58</td>\n",
       "      <td>68.75</td>\n",
       "      <td>462</td>\n",
       "    </tr>\n",
       "    <tr>\n",
       "      <th>1</th>\n",
       "      <td>Delhi</td>\n",
       "      <td>01-02-2018</td>\n",
       "      <td>277.48</td>\n",
       "      <td>422.59</td>\n",
       "      <td>31.26</td>\n",
       "      <td>53.73</td>\n",
       "      <td>4.26</td>\n",
       "      <td>55.61</td>\n",
       "      <td>1.52</td>\n",
       "      <td>12.43</td>\n",
       "      <td>68.68</td>\n",
       "      <td>439</td>\n",
       "    </tr>\n",
       "    <tr>\n",
       "      <th>2</th>\n",
       "      <td>Delhi</td>\n",
       "      <td>01-03-2018</td>\n",
       "      <td>217.01</td>\n",
       "      <td>336.87</td>\n",
       "      <td>37.98</td>\n",
       "      <td>52.24</td>\n",
       "      <td>2.87</td>\n",
       "      <td>50.81</td>\n",
       "      <td>1.29</td>\n",
       "      <td>10.28</td>\n",
       "      <td>54.94</td>\n",
       "      <td>405</td>\n",
       "    </tr>\n",
       "    <tr>\n",
       "      <th>3</th>\n",
       "      <td>Delhi</td>\n",
       "      <td>01-04-2018</td>\n",
       "      <td>248.54</td>\n",
       "      <td>377.61</td>\n",
       "      <td>35.56</td>\n",
       "      <td>61.57</td>\n",
       "      <td>4.24</td>\n",
       "      <td>55.17</td>\n",
       "      <td>1.36</td>\n",
       "      <td>14.42</td>\n",
       "      <td>66.31</td>\n",
       "      <td>394</td>\n",
       "    </tr>\n",
       "    <tr>\n",
       "      <th>4</th>\n",
       "      <td>Delhi</td>\n",
       "      <td>01-05-2018</td>\n",
       "      <td>240.42</td>\n",
       "      <td>360.99</td>\n",
       "      <td>38.73</td>\n",
       "      <td>54.80</td>\n",
       "      <td>4.57</td>\n",
       "      <td>51.36</td>\n",
       "      <td>1.38</td>\n",
       "      <td>13.20</td>\n",
       "      <td>48.57</td>\n",
       "      <td>398</td>\n",
       "    </tr>\n",
       "  </tbody>\n",
       "</table>\n",
       "</div>"
      ],
      "text/plain": [
       "    City        Date   PM2.5    PM10     NO    NO2    NOx    NH3    CO    SO2  \\\n",
       "0  Delhi  01-01-2018  303.41  415.09  62.76  63.92  11.79  73.16  1.80  18.58   \n",
       "1  Delhi  01-02-2018  277.48  422.59  31.26  53.73   4.26  55.61  1.52  12.43   \n",
       "2  Delhi  01-03-2018  217.01  336.87  37.98  52.24   2.87  50.81  1.29  10.28   \n",
       "3  Delhi  01-04-2018  248.54  377.61  35.56  61.57   4.24  55.17  1.36  14.42   \n",
       "4  Delhi  01-05-2018  240.42  360.99  38.73  54.80   4.57  51.36  1.38  13.20   \n",
       "\n",
       "      O3  AQI  \n",
       "0  68.75  462  \n",
       "1  68.68  439  \n",
       "2  54.94  405  \n",
       "3  66.31  394  \n",
       "4  48.57  398  "
      ]
     },
     "execution_count": 6,
     "metadata": {},
     "output_type": "execute_result"
    }
   ],
   "source": [
    "aqi_data = pd.read_csv(r\"DelhiAQI.csv\")\n",
    "aqi_data.head()"
   ]
  },
  {
   "cell_type": "code",
   "execution_count": 7,
   "id": "5cadad70",
   "metadata": {},
   "outputs": [
    {
     "name": "stdout",
     "output_type": "stream",
     "text": [
      "<class 'pandas.core.frame.DataFrame'>\n",
      "RangeIndex: 913 entries, 0 to 912\n",
      "Data columns (total 10 columns):\n",
      " #   Column  Non-Null Count  Dtype  \n",
      "---  ------  --------------  -----  \n",
      " 0   PM2.5   913 non-null    float64\n",
      " 1   PM10    913 non-null    float64\n",
      " 2   NO      913 non-null    float64\n",
      " 3   NO2     913 non-null    float64\n",
      " 4   NOx     913 non-null    float64\n",
      " 5   NH3     913 non-null    float64\n",
      " 6   CO      913 non-null    float64\n",
      " 7   SO2     913 non-null    float64\n",
      " 8   O3      913 non-null    float64\n",
      " 9   AQI     913 non-null    int64  \n",
      "dtypes: float64(9), int64(1)\n",
      "memory usage: 71.5 KB\n"
     ]
    }
   ],
   "source": [
    "aqi_data = aqi_data.drop(['City','Date'], axis=1)\n",
    "aqi_data.info()"
   ]
  },
  {
   "cell_type": "code",
   "execution_count": 8,
   "id": "77f19a4f",
   "metadata": {},
   "outputs": [
    {
     "data": {
      "text/plain": [
       "PM2.5    0\n",
       "PM10     0\n",
       "NO       0\n",
       "NO2      0\n",
       "NOx      0\n",
       "NH3      0\n",
       "CO       0\n",
       "SO2      0\n",
       "O3       0\n",
       "AQI      0\n",
       "dtype: int64"
      ]
     },
     "execution_count": 8,
     "metadata": {},
     "output_type": "execute_result"
    }
   ],
   "source": [
    "aqi_data.isna().sum()"
   ]
  },
  {
   "cell_type": "code",
   "execution_count": 9,
   "id": "4b1425bd",
   "metadata": {},
   "outputs": [
    {
     "data": {
      "text/html": [
       "<div>\n",
       "<style scoped>\n",
       "    .dataframe tbody tr th:only-of-type {\n",
       "        vertical-align: middle;\n",
       "    }\n",
       "\n",
       "    .dataframe tbody tr th {\n",
       "        vertical-align: top;\n",
       "    }\n",
       "\n",
       "    .dataframe thead th {\n",
       "        text-align: right;\n",
       "    }\n",
       "</style>\n",
       "<table border=\"1\" class=\"dataframe\">\n",
       "  <thead>\n",
       "    <tr style=\"text-align: right;\">\n",
       "      <th></th>\n",
       "      <th>PM2.5</th>\n",
       "      <th>PM10</th>\n",
       "      <th>NO</th>\n",
       "      <th>NO2</th>\n",
       "      <th>NOx</th>\n",
       "      <th>NH3</th>\n",
       "      <th>CO</th>\n",
       "      <th>SO2</th>\n",
       "      <th>O3</th>\n",
       "      <th>AQI</th>\n",
       "    </tr>\n",
       "  </thead>\n",
       "  <tbody>\n",
       "    <tr>\n",
       "      <th>count</th>\n",
       "      <td>913.000000</td>\n",
       "      <td>913.000000</td>\n",
       "      <td>913.00000</td>\n",
       "      <td>913.000000</td>\n",
       "      <td>913.000000</td>\n",
       "      <td>913.000000</td>\n",
       "      <td>913.000000</td>\n",
       "      <td>913.000000</td>\n",
       "      <td>913.000000</td>\n",
       "      <td>913.000000</td>\n",
       "    </tr>\n",
       "    <tr>\n",
       "      <th>mean</th>\n",
       "      <td>105.458171</td>\n",
       "      <td>213.439157</td>\n",
       "      <td>31.97747</td>\n",
       "      <td>43.098346</td>\n",
       "      <td>51.963604</td>\n",
       "      <td>38.338368</td>\n",
       "      <td>1.322881</td>\n",
       "      <td>13.852180</td>\n",
       "      <td>41.454918</td>\n",
       "      <td>228.813801</td>\n",
       "    </tr>\n",
       "    <tr>\n",
       "      <th>std</th>\n",
       "      <td>77.477643</td>\n",
       "      <td>116.910831</td>\n",
       "      <td>26.56564</td>\n",
       "      <td>15.931366</td>\n",
       "      <td>30.946864</td>\n",
       "      <td>9.813347</td>\n",
       "      <td>0.562686</td>\n",
       "      <td>4.226043</td>\n",
       "      <td>12.438408</td>\n",
       "      <td>113.960050</td>\n",
       "    </tr>\n",
       "    <tr>\n",
       "      <th>min</th>\n",
       "      <td>10.240000</td>\n",
       "      <td>19.510000</td>\n",
       "      <td>4.42000</td>\n",
       "      <td>14.360000</td>\n",
       "      <td>1.870000</td>\n",
       "      <td>19.900000</td>\n",
       "      <td>0.520000</td>\n",
       "      <td>6.180000</td>\n",
       "      <td>16.510000</td>\n",
       "      <td>51.000000</td>\n",
       "    </tr>\n",
       "    <tr>\n",
       "      <th>25%</th>\n",
       "      <td>49.960000</td>\n",
       "      <td>120.820000</td>\n",
       "      <td>13.19000</td>\n",
       "      <td>30.730000</td>\n",
       "      <td>29.360000</td>\n",
       "      <td>30.860000</td>\n",
       "      <td>0.930000</td>\n",
       "      <td>10.440000</td>\n",
       "      <td>31.560000</td>\n",
       "      <td>129.000000</td>\n",
       "    </tr>\n",
       "    <tr>\n",
       "      <th>50%</th>\n",
       "      <td>81.870000</td>\n",
       "      <td>193.790000</td>\n",
       "      <td>22.50000</td>\n",
       "      <td>41.230000</td>\n",
       "      <td>43.920000</td>\n",
       "      <td>36.610000</td>\n",
       "      <td>1.160000</td>\n",
       "      <td>13.250000</td>\n",
       "      <td>40.160000</td>\n",
       "      <td>208.000000</td>\n",
       "    </tr>\n",
       "    <tr>\n",
       "      <th>75%</th>\n",
       "      <td>137.290000</td>\n",
       "      <td>281.530000</td>\n",
       "      <td>40.92000</td>\n",
       "      <td>54.010000</td>\n",
       "      <td>66.400000</td>\n",
       "      <td>44.470000</td>\n",
       "      <td>1.520000</td>\n",
       "      <td>16.550000</td>\n",
       "      <td>50.560000</td>\n",
       "      <td>306.000000</td>\n",
       "    </tr>\n",
       "    <tr>\n",
       "      <th>max</th>\n",
       "      <td>582.280000</td>\n",
       "      <td>761.910000</td>\n",
       "      <td>158.63000</td>\n",
       "      <td>106.040000</td>\n",
       "      <td>195.810000</td>\n",
       "      <td>75.880000</td>\n",
       "      <td>3.660000</td>\n",
       "      <td>33.500000</td>\n",
       "      <td>76.320000</td>\n",
       "      <td>659.000000</td>\n",
       "    </tr>\n",
       "  </tbody>\n",
       "</table>\n",
       "</div>"
      ],
      "text/plain": [
       "            PM2.5        PM10         NO         NO2         NOx         NH3  \\\n",
       "count  913.000000  913.000000  913.00000  913.000000  913.000000  913.000000   \n",
       "mean   105.458171  213.439157   31.97747   43.098346   51.963604   38.338368   \n",
       "std     77.477643  116.910831   26.56564   15.931366   30.946864    9.813347   \n",
       "min     10.240000   19.510000    4.42000   14.360000    1.870000   19.900000   \n",
       "25%     49.960000  120.820000   13.19000   30.730000   29.360000   30.860000   \n",
       "50%     81.870000  193.790000   22.50000   41.230000   43.920000   36.610000   \n",
       "75%    137.290000  281.530000   40.92000   54.010000   66.400000   44.470000   \n",
       "max    582.280000  761.910000  158.63000  106.040000  195.810000   75.880000   \n",
       "\n",
       "               CO         SO2          O3         AQI  \n",
       "count  913.000000  913.000000  913.000000  913.000000  \n",
       "mean     1.322881   13.852180   41.454918  228.813801  \n",
       "std      0.562686    4.226043   12.438408  113.960050  \n",
       "min      0.520000    6.180000   16.510000   51.000000  \n",
       "25%      0.930000   10.440000   31.560000  129.000000  \n",
       "50%      1.160000   13.250000   40.160000  208.000000  \n",
       "75%      1.520000   16.550000   50.560000  306.000000  \n",
       "max      3.660000   33.500000   76.320000  659.000000  "
      ]
     },
     "execution_count": 9,
     "metadata": {},
     "output_type": "execute_result"
    }
   ],
   "source": [
    "aqi_data.describe()"
   ]
  },
  {
   "cell_type": "code",
   "execution_count": 10,
   "id": "4f3ed35f",
   "metadata": {},
   "outputs": [
    {
     "data": {
      "image/png": "[encoded data removed]",
      "text/plain": [
       "<Figure size 576x360 with 2 Axes>"
      ]
     },
     "metadata": {
      "needs_background": "light"
     },
     "output_type": "display_data"
    }
   ],
   "source": [
    "fig, axs = plt.subplots(figsize = (8, 5))\n",
    "dataplot=sns.heatmap(aqi_data.corr(),annot=True, cmap='YlGnBu')\n",
    "plt.show()"
   ]
  },
  {
   "cell_type": "markdown",
   "id": "3567d1a2",
   "metadata": {},
   "source": [
    "### Outlier detection"
   ]
  },
  {
   "cell_type": "code",
   "execution_count": 11,
   "id": "ec72eb9a",
   "metadata": {},
   "outputs": [
    {
     "data": {
      "text/plain": [
       "PM2.5    370.2872\n",
       "PM10     539.7980\n",
       "NO       121.5520\n",
       "NO2       82.6108\n",
       "Name: 0.99, dtype: float64"
      ]
     },
     "execution_count": 11,
     "metadata": {},
     "output_type": "execute_result"
    }
   ],
   "source": [
    "aqi_data[['PM2.5','PM10','NO', 'NO2']].quantile(0.99)"
   ]
  },
  {
   "cell_type": "code",
   "execution_count": 12,
   "id": "7cce9f4f",
   "metadata": {},
   "outputs": [
    {
     "data": {
      "image/png": "[encoded data removed]",
      "text/plain": [
       "<Figure size 576x360 with 4 Axes>"
      ]
     },
     "metadata": {
      "needs_background": "light"
     },
     "output_type": "display_data"
    }
   ],
   "source": [
    "fig, axs = plt.subplots(nrows = 2, ncols = 2, figsize = (8, 5))\n",
    "\n",
    "sns.kdeplot(data = aqi_data, x = 'PM2.5', shade = True, ax = axs[0][0])\n",
    "sns.kdeplot(data = aqi_data, x = 'PM10', shade = True, ax = axs[0][1])\n",
    "sns.kdeplot(data = aqi_data, x = 'NO', shade = True, ax = axs[1][0])\n",
    "sns.kdeplot(data = aqi_data, x = 'NO2', shade = True, ax = axs[1][1])\n",
    "\n",
    "plt.subplots_adjust(top = 2, right = 2)\n",
    "plt.show()"
   ]
  },
  {
   "cell_type": "code",
   "execution_count": 13,
   "id": "31fc3ba3",
   "metadata": {},
   "outputs": [
    {
     "name": "stdout",
     "output_type": "stream",
     "text": [
      "[308 311 356 357 367 381 669 671 680 681 682 683 730]\n",
      "13\n",
      "[163 164 165 669 671 683]\n",
      "6\n",
      "[298 299 330 331 335 336 337 338 339 353 356 357 363 375 376 384 400 703\n",
      " 731]\n",
      "19\n",
      "[ 40  51 384 689 703]\n",
      "19\n"
     ]
    }
   ],
   "source": [
    "zscore1= np.abs(stats.zscore(aqi_data['PM2.5']))\n",
    "print(np.where(zscore1>3)[0])\n",
    "print(len(np.where(zscore1>3)[0]))\n",
    "\n",
    "zscore2= np.abs(stats.zscore(aqi_data['PM10']))\n",
    "print(np.where(zscore2>3)[0])\n",
    "print(len(np.where(zscore2>3)[0]))\n",
    "\n",
    "zscore3= np.abs(stats.zscore(aqi_data['NO']))\n",
    "print(np.where(zscore3>3)[0])\n",
    "print(len(np.where(zscore3>3)[0]))\n",
    "\n",
    "zscore4= np.abs(stats.zscore(aqi_data['NO2']))\n",
    "print(np.where(zscore4>3)[0])\n",
    "print(len(np.where(zscore3>3)[0]))"
   ]
  },
  {
   "cell_type": "code",
   "execution_count": 14,
   "id": "330b69bc",
   "metadata": {},
   "outputs": [],
   "source": [
    "df = aqi_data\n",
    "for i in np.where((zscore1>3) | (zscore2>3) | (zscore3>3) | (zscore4>3)):\n",
    "    df.drop(i, axis = 0, inplace = True)"
   ]
  },
  {
   "cell_type": "code",
   "execution_count": 15,
   "id": "40670474",
   "metadata": {},
   "outputs": [
    {
     "name": "stdout",
     "output_type": "stream",
     "text": [
      "New dimensions: (877, 10)\n"
     ]
    },
    {
     "data": {
      "text/html": [
       "<div>\n",
       "<style scoped>\n",
       "    .dataframe tbody tr th:only-of-type {\n",
       "        vertical-align: middle;\n",
       "    }\n",
       "\n",
       "    .dataframe tbody tr th {\n",
       "        vertical-align: top;\n",
       "    }\n",
       "\n",
       "    .dataframe thead th {\n",
       "        text-align: right;\n",
       "    }\n",
       "</style>\n",
       "<table border=\"1\" class=\"dataframe\">\n",
       "  <thead>\n",
       "    <tr style=\"text-align: right;\">\n",
       "      <th></th>\n",
       "      <th>PM2.5</th>\n",
       "      <th>PM10</th>\n",
       "      <th>NO</th>\n",
       "      <th>NO2</th>\n",
       "      <th>NOx</th>\n",
       "      <th>NH3</th>\n",
       "      <th>CO</th>\n",
       "      <th>SO2</th>\n",
       "      <th>O3</th>\n",
       "      <th>AQI</th>\n",
       "    </tr>\n",
       "  </thead>\n",
       "  <tbody>\n",
       "    <tr>\n",
       "      <th>count</th>\n",
       "      <td>877.000000</td>\n",
       "      <td>877.000000</td>\n",
       "      <td>877.000000</td>\n",
       "      <td>877.000000</td>\n",
       "      <td>877.000000</td>\n",
       "      <td>877.000000</td>\n",
       "      <td>877.000000</td>\n",
       "      <td>877.000000</td>\n",
       "      <td>877.000000</td>\n",
       "      <td>877.000000</td>\n",
       "    </tr>\n",
       "    <tr>\n",
       "      <th>mean</th>\n",
       "      <td>97.768552</td>\n",
       "      <td>202.518563</td>\n",
       "      <td>29.394527</td>\n",
       "      <td>41.975268</td>\n",
       "      <td>49.113284</td>\n",
       "      <td>37.810034</td>\n",
       "      <td>1.267891</td>\n",
       "      <td>13.741334</td>\n",
       "      <td>41.451368</td>\n",
       "      <td>219.346636</td>\n",
       "    </tr>\n",
       "    <tr>\n",
       "      <th>std</th>\n",
       "      <td>66.085714</td>\n",
       "      <td>103.486409</td>\n",
       "      <td>22.297325</td>\n",
       "      <td>14.791660</td>\n",
       "      <td>26.740733</td>\n",
       "      <td>9.464780</td>\n",
       "      <td>0.483185</td>\n",
       "      <td>4.195496</td>\n",
       "      <td>12.611850</td>\n",
       "      <td>104.676086</td>\n",
       "    </tr>\n",
       "    <tr>\n",
       "      <th>min</th>\n",
       "      <td>10.240000</td>\n",
       "      <td>19.510000</td>\n",
       "      <td>4.420000</td>\n",
       "      <td>14.360000</td>\n",
       "      <td>1.870000</td>\n",
       "      <td>19.900000</td>\n",
       "      <td>0.520000</td>\n",
       "      <td>6.180000</td>\n",
       "      <td>16.510000</td>\n",
       "      <td>51.000000</td>\n",
       "    </tr>\n",
       "    <tr>\n",
       "      <th>25%</th>\n",
       "      <td>48.460000</td>\n",
       "      <td>117.660000</td>\n",
       "      <td>12.820000</td>\n",
       "      <td>30.460000</td>\n",
       "      <td>29.100000</td>\n",
       "      <td>30.720000</td>\n",
       "      <td>0.920000</td>\n",
       "      <td>10.420000</td>\n",
       "      <td>31.250000</td>\n",
       "      <td>127.000000</td>\n",
       "    </tr>\n",
       "    <tr>\n",
       "      <th>50%</th>\n",
       "      <td>78.400000</td>\n",
       "      <td>187.590000</td>\n",
       "      <td>21.370000</td>\n",
       "      <td>40.610000</td>\n",
       "      <td>42.630000</td>\n",
       "      <td>36.340000</td>\n",
       "      <td>1.140000</td>\n",
       "      <td>13.000000</td>\n",
       "      <td>40.180000</td>\n",
       "      <td>202.000000</td>\n",
       "    </tr>\n",
       "    <tr>\n",
       "      <th>75%</th>\n",
       "      <td>128.450000</td>\n",
       "      <td>270.870000</td>\n",
       "      <td>38.730000</td>\n",
       "      <td>52.700000</td>\n",
       "      <td>63.160000</td>\n",
       "      <td>43.540000</td>\n",
       "      <td>1.470000</td>\n",
       "      <td>16.390000</td>\n",
       "      <td>50.710000</td>\n",
       "      <td>294.000000</td>\n",
       "    </tr>\n",
       "    <tr>\n",
       "      <th>max</th>\n",
       "      <td>333.430000</td>\n",
       "      <td>516.850000</td>\n",
       "      <td>111.090000</td>\n",
       "      <td>85.560000</td>\n",
       "      <td>143.910000</td>\n",
       "      <td>75.880000</td>\n",
       "      <td>3.200000</td>\n",
       "      <td>33.500000</td>\n",
       "      <td>76.320000</td>\n",
       "      <td>532.000000</td>\n",
       "    </tr>\n",
       "  </tbody>\n",
       "</table>\n",
       "</div>"
      ],
      "text/plain": [
       "            PM2.5        PM10          NO         NO2         NOx         NH3  \\\n",
       "count  877.000000  877.000000  877.000000  877.000000  877.000000  877.000000   \n",
       "mean    97.768552  202.518563   29.394527   41.975268   49.113284   37.810034   \n",
       "std     66.085714  103.486409   22.297325   14.791660   26.740733    9.464780   \n",
       "min     10.240000   19.510000    4.420000   14.360000    1.870000   19.900000   \n",
       "25%     48.460000  117.660000   12.820000   30.460000   29.100000   30.720000   \n",
       "50%     78.400000  187.590000   21.370000   40.610000   42.630000   36.340000   \n",
       "75%    128.450000  270.870000   38.730000   52.700000   63.160000   43.540000   \n",
       "max    333.430000  516.850000  111.090000   85.560000  143.910000   75.880000   \n",
       "\n",
       "               CO         SO2          O3         AQI  \n",
       "count  877.000000  877.000000  877.000000  877.000000  \n",
       "mean     1.267891   13.741334   41.451368  219.346636  \n",
       "std      0.483185    4.195496   12.611850  104.676086  \n",
       "min      0.520000    6.180000   16.510000   51.000000  \n",
       "25%      0.920000   10.420000   31.250000  127.000000  \n",
       "50%      1.140000   13.000000   40.180000  202.000000  \n",
       "75%      1.470000   16.390000   50.710000  294.000000  \n",
       "max      3.200000   33.500000   76.320000  532.000000  "
      ]
     },
     "execution_count": 15,
     "metadata": {},
     "output_type": "execute_result"
    }
   ],
   "source": [
    "print(\"New dimensions:\", df.shape)\n",
    "df.describe()"
   ]
  },
  {
   "cell_type": "code",
   "execution_count": 16,
   "id": "08c58adb",
   "metadata": {},
   "outputs": [
    {
     "data": {
      "image/png": "[encoded data removed]",
      "text/plain": [
       "<Figure size 576x360 with 4 Axes>"
      ]
     },
     "metadata": {
      "needs_background": "light"
     },
     "output_type": "display_data"
    }
   ],
   "source": [
    "fig, axs = plt.subplots(nrows = 2, ncols = 2, figsize = (8, 5))\n",
    "\n",
    "sns.kdeplot(data = df, x = 'PM2.5', shade = True, color=\"crimson\", ax = axs[0][0])\n",
    "sns.kdeplot(data = df, x = 'PM10', shade = True, color=\"crimson\", ax = axs[0][1])\n",
    "sns.kdeplot(data = df, x = 'NO', shade = True, color=\"crimson\", ax = axs[1][0])\n",
    "sns.kdeplot(data = df, x = 'NO2', shade = True, color=\"crimson\", ax = axs[1][1])\n",
    "\n",
    "plt.subplots_adjust(top = 2, right = 2)\n",
    "plt.show()"
   ]
  },
  {
   "cell_type": "markdown",
   "id": "7293e350",
   "metadata": {},
   "source": [
    "## Model Selection"
   ]
  },
  {
   "cell_type": "code",
   "execution_count": 17,
   "id": "d5fe4b94",
   "metadata": {},
   "outputs": [],
   "source": [
    "from sklearn.model_selection import train_test_split\n",
    "\n",
    "X = df.drop(['AQI'], axis=1)\n",
    "Y = df[['AQI']]\n",
    "\n",
    "x_train, x_test, y_train, y_test= train_test_split(X, Y, train_size=0.75, random_state=42)"
   ]
  },
  {
   "cell_type": "code",
   "execution_count": 20,
   "id": "92238cad",
   "metadata": {},
   "outputs": [],
   "source": [
    "from sklearn.preprocessing import StandardScaler\n",
    "from sklearn.metrics import mean_absolute_error, mean_squared_error, r2_score \n",
    "from sklearn.model_selection import cross_val_score\n",
    "\n",
    "scaler=StandardScaler()\n",
    "\n",
    "X_scaled = scaler.fit_transform(X)\n",
    "Y_scaled = scaler.fit_transform(Y)\n",
    "\n",
    "x_train_scaled=scaler.fit_transform(x_train)\n",
    "x_test_scaled=scaler.transform(x_test)\n",
    "y_train_scaled=scaler.fit_transform(y_train)\n",
    "\n",
    "#x_test_scaled\n",
    "#print(scaler.fit_transform(x_train))"
   ]
  },
  {
   "cell_type": "markdown",
   "id": "ecf38aea",
   "metadata": {},
   "source": [
    "<h3>Linear regression</h3>"
   ]
  },
  {
   "cell_type": "code",
   "execution_count": 22,
   "id": "ae713974",
   "metadata": {},
   "outputs": [
    {
     "name": "stdout",
     "output_type": "stream",
     "text": [
      "Absolute value of negative RMSE using cross validation: 0.32263582509179034\n",
      "R2 score using cross validation: 0.8779617674087626\n",
      "\n",
      "MAE: 22.740863967333073  RMSE: 31.94722154968289  R2 Score: 0.9006762700108424\n"
     ]
    }
   ],
   "source": [
    "from sklearn.linear_model import LinearRegression\n",
    "\n",
    "model1=LinearRegression()\n",
    "model1.fit(x_train_scaled,y_train_scaled)\n",
    "y_pred1=model1.predict(x_test_scaled)\n",
    "y_pred1_inv=scaler.inverse_transform(y_pred1)\n",
    "\n",
    "accuracy1=cross_val_score(model1, X_scaled, Y_scaled, cv=4, scoring='neg_root_mean_squared_error')\n",
    "print(\"Absolute value of negative RMSE using cross validation:\", abs(accuracy1.mean()))\n",
    "accuracy1=cross_val_score(model1, X_scaled, Y_scaled, cv=4, scoring='r2')\n",
    "print(\"R2 score using cross validation:\", accuracy1.mean())\n",
    "print(\"\")\n",
    "mae1 = mean_absolute_error(y_test, y_pred1_inv) \n",
    "mse1 = mean_squared_error(y_test, y_pred1_inv) \n",
    "rmse1 = np.sqrt(mse1) \n",
    "r2_1 = r2_score(y_test, y_pred1_inv) \n",
    "print(\"MAE:\", mae1, \" RMSE:\", rmse1,\" R2 Score:\", r2_1)"
   ]
  },
  {
   "cell_type": "markdown",
   "id": "6b5498ef",
   "metadata": {},
   "source": [
    "<h3>Ridge Regression</h3>"
   ]
  },
  {
   "cell_type": "code",
   "execution_count": 24,
   "id": "acb9d0c5",
   "metadata": {},
   "outputs": [
    {
     "name": "stdout",
     "output_type": "stream",
     "text": [
      "Absolute value of negative RMSE using cross validation: 33.59203504236183\n",
      "\n",
      "R2 score using cross validation: 0.8796541699033915\n",
      "\n",
      "MAE: 22.727011987039585  RMSE: 31.93661614921067  R2 Score: 0.9007422033246344\n"
     ]
    }
   ],
   "source": [
    "from sklearn.linear_model import Ridge\n",
    "\n",
    "model2=Ridge()\n",
    "model2.fit(x_train_scaled,y_train_scaled)\n",
    "y_pred2=model2.predict(x_test_scaled)\n",
    "y_pred2_inv=scaler.inverse_transform(y_pred2)\n",
    "\n",
    "accuracy2=cross_val_score(model2, X, Y, cv=4, scoring='neg_root_mean_squared_error')\n",
    "print(\"Absolute value of negative RMSE using cross validation:\", abs(accuracy2.mean()))\n",
    "print(\"\")\n",
    "accuracy2=cross_val_score(model2, X, Y, cv=4, scoring='r2')\n",
    "print(\"R2 score using cross validation:\", accuracy2.mean())\n",
    "print(\"\")\n",
    "mae2 = mean_absolute_error(y_test, y_pred2_inv) \n",
    "mse2 = mean_squared_error(y_test, y_pred2_inv) \n",
    "rmse2 = np.sqrt(mse2) \n",
    "r2_2 = r2_score(y_test, y_pred2_inv) \n",
    "print(\"MAE:\", mae2, \" RMSE:\", rmse2,\" R2 Score:\", r2_2)"
   ]
  },
  {
   "cell_type": "markdown",
   "id": "542fc3d0",
   "metadata": {},
   "source": [
    "<h3>Lasso Regression</h3>"
   ]
  },
  {
   "cell_type": "code",
   "execution_count": 25,
   "id": "a22701dd",
   "metadata": {},
   "outputs": [
    {
     "name": "stdout",
     "output_type": "stream",
     "text": [
      "Absolute value of negative RMSE using cross validation: 33.74420917753363\n",
      "\n",
      "R2 score using cross validation: 0.8780537508478035\n",
      "\n",
      "MAE: 22.74086396733307  RMSE: 31.947221549682887  R2 Score: 0.9006762700108424\n"
     ]
    }
   ],
   "source": [
    "from sklearn.linear_model import Lasso\n",
    "\n",
    "model3=Lasso(alpha=0.0)\n",
    "model3.fit(x_train_scaled,y_train_scaled)\n",
    "y_pred3=model3.predict(x_test_scaled)\n",
    "y_pred3_inv=scaler.inverse_transform(y_pred3.reshape(-1, 1))\n",
    "\n",
    "accuracy3=cross_val_score(model3, X, Y, cv=4, scoring='neg_root_mean_squared_error')\n",
    "print(\"Absolute value of negative RMSE using cross validation:\", abs(accuracy3.mean()))\n",
    "print(\"\")\n",
    "accuracy3=cross_val_score(model3, X, Y, cv=4, scoring='r2')\n",
    "print(\"R2 score using cross validation:\", accuracy3.mean())\n",
    "print(\"\")\n",
    "mae3 = mean_absolute_error(y_test, y_pred3_inv) \n",
    "mse3 = mean_squared_error(y_test, y_pred3_inv) \n",
    "rmse3 = np.sqrt(mse3) \n",
    "r2_3 = r2_score(y_test, y_pred3_inv) \n",
    "print(\"MAE:\", mae3, \" RMSE:\", rmse3,\" R2 Score:\", r2_3)"
   ]
  },
  {
   "cell_type": "markdown",
   "id": "58d909b1",
   "metadata": {},
   "source": [
    "<h3>Random Forest</h3>"
   ]
  },
  {
   "cell_type": "code",
   "execution_count": 26,
   "id": "871b95de",
   "metadata": {},
   "outputs": [
    {
     "name": "stdout",
     "output_type": "stream",
     "text": [
      "0.9913291333483057\n",
      "\n",
      "Accuracy result is: 0.9163714386879084\n",
      "\n",
      "MAE: 19.066363636363636  RMSE: 31.94722154968289  R2 Score: 0.9250339254360854\n"
     ]
    }
   ],
   "source": [
    "from sklearn.ensemble import RandomForestRegressor \n",
    " \n",
    "model4=RandomForestRegressor()\n",
    "model4.fit(x_train_scaled,y_train_scaled)\n",
    "y_pred4=model4.predict(x_test_scaled)\n",
    "y_pred4_inv=scaler.inverse_transform(y_pred4.reshape(-1, 1))\n",
    "print(model4.score(x_train_scaled,y_train_scaled))\n",
    "print(\"\")\n",
    "accuracy4=cross_val_score(model4, X, Y, cv=4, scoring='r2')\n",
    "print(\"Accuracy result is:\", accuracy4.mean())\n",
    "print(\"\")\n",
    "\n",
    "mae4 = mean_absolute_error(y_test, y_pred4_inv) \n",
    "mse4 = mean_squared_error(y_test, y_pred4_inv) \n",
    "rmse4 = np.sqrt(mse1) \n",
    "r2_4 = r2_score(y_test, y_pred4_inv) \n",
    "print(\"MAE:\", mae4, \" RMSE:\", rmse4,\" R2 Score:\", r2_4)"
   ]
  },
  {
   "cell_type": "code",
   "execution_count": 93,
   "id": "9a3e567d",
   "metadata": {},
   "outputs": [
    {
     "name": "stdout",
     "output_type": "stream",
     "text": [
      "{'n_estimators': [200, 400, 600, 800], 'max_features': [None], 'max_depth': [3, 6], 'min_samples_leaf': [1, 2, 4]}\n",
      "\n"
     ]
    }
   ],
   "source": [
    "from sklearn.model_selection import RandomizedSearchCV\n",
    "\n",
    "n_estimators = [200, 400, 600, 800]\n",
    "max_features = [None]\n",
    "max_depth = [3,6]\n",
    "min_samples_leaf = [1, 2, 4]\n",
    "\n",
    "random_grid = {'n_estimators': n_estimators,\n",
    "               'max_features': max_features,\n",
    "               'max_depth': max_depth,\n",
    "               'min_samples_leaf': min_samples_leaf}\n",
    "print(random_grid)\n",
    "print(\"\")"
   ]
  },
  {
   "cell_type": "code",
   "execution_count": 94,
   "id": "bba333c4",
   "metadata": {},
   "outputs": [
    {
     "name": "stdout",
     "output_type": "stream",
     "text": [
      "Fitting 4 folds for each of 24 candidates, totalling 96 fits\n"
     ]
    },
    {
     "data": {
      "text/plain": [
       "RandomizedSearchCV(cv=4, estimator=RandomForestRegressor(), n_iter=100,\n",
       "                   n_jobs=-1,\n",
       "                   param_distributions={'max_depth': [3, 6],\n",
       "                                        'max_features': [None],\n",
       "                                        'min_samples_leaf': [1, 2, 4],\n",
       "                                        'n_estimators': [200, 400, 600, 800]},\n",
       "                   random_state=42, verbose=2)"
      ]
     },
     "execution_count": 94,
     "metadata": {},
     "output_type": "execute_result"
    }
   ],
   "source": [
    "rf = RandomForestRegressor()\n",
    "rf_random = RandomizedSearchCV(estimator = rf, param_distributions = random_grid, n_iter = 100, cv = 4, verbose=2, random_state=42, n_jobs = -1)\n",
    "rf_random.fit(x_train_scaled, y_train_scaled)"
   ]
  },
  {
   "cell_type": "code",
   "execution_count": 95,
   "id": "4ecb008f",
   "metadata": {},
   "outputs": [
    {
     "name": "stdout",
     "output_type": "stream",
     "text": [
      "Best parameters: {'n_estimators': 400, 'min_samples_leaf': 1, 'max_features': None, 'max_depth': 6}\n"
     ]
    },
    {
     "data": {
      "text/plain": [
       "0.9356931740953289"
      ]
     },
     "execution_count": 95,
     "metadata": {},
     "output_type": "execute_result"
    }
   ],
   "source": [
    "print(\"Best parameters:\",rf_random.best_params_)\n",
    "rf_random.best_score_"
   ]
  },
  {
   "cell_type": "code",
   "execution_count": 96,
   "id": "a42cdfa6",
   "metadata": {},
   "outputs": [
    {
     "data": {
      "text/plain": [
       "RandomForestRegressor(n_estimators=10, random_state=42)"
      ]
     },
     "execution_count": 96,
     "metadata": {},
     "output_type": "execute_result"
    }
   ],
   "source": [
    "base_model = RandomForestRegressor(n_estimators = 10, random_state = 42)\n",
    "base_model.fit(x_train_scaled, y_train_scaled)"
   ]
  },
  {
   "cell_type": "code",
   "execution_count": 97,
   "id": "5c2d2b7b",
   "metadata": {},
   "outputs": [
    {
     "name": "stdout",
     "output_type": "stream",
     "text": [
      "Model Performance\n",
      "Accuracy = 0.92%.\n",
      "\n",
      "Model Performance\n",
      "Accuracy = 0.93%.\n",
      "\n",
      "Improvement of 0.72%.\n"
     ]
    }
   ],
   "source": [
    "def evaluate(model, x_train_scaled, y_train_scaled):\n",
    "    predictions = model.predict(x_test_scaled)\n",
    "    y_pred_inv=scaler.inverse_transform(predictions.reshape(-1, 1))\n",
    "    accuracy = r2_score(y_test, y_pred_inv)\n",
    "    print('Model Performance')\n",
    "    print('Accuracy = {:0.2f}%.'.format(accuracy))\n",
    "    print(\"\")\n",
    "    return accuracy\n",
    "\n",
    "base_accuracy = evaluate(base_model, x_train_scaled, y_train_scaled)\n",
    "\n",
    "best_random = rf_random.best_estimator_\n",
    "random_accuracy = evaluate(best_random, x_train_scaled, y_train_scaled)\n",
    "\n",
    "print('Improvement of {:0.2f}%.'.format( 100 * (random_accuracy - base_accuracy) / base_accuracy))"
   ]
  },
  {
   "cell_type": "markdown",
   "id": "7555a991",
   "metadata": {},
   "source": [
    "<h3> Bayesian Linear Regression </h3>"
   ]
  },
  {
   "cell_type": "code",
   "execution_count": null,
   "id": "0272f974",
   "metadata": {},
   "outputs": [],
   "source": [
    "from sklearn.linear_model import BayesianRidge\n",
    "\n",
    "model5=BayesianRidge()\n",
    "model5.fit(x_train_scaled,y_train)\n",
    "y_pred5=model5.predict(x_test_scaled)\n",
    "\n",
    "print(model5.score(x_train_scaled,y_train)*100)\n",
    "print(\"\")\n",
    "accuracy5=cross_val_score(model5, X, Y)\n",
    "print(\"Accuracy result is:\", accuracy5.mean()*100)\n",
    "print(\"\")"
   ]
  },
  {
   "cell_type": "markdown",
   "id": "e37c0199",
   "metadata": {},
   "source": [
    "### Testing"
   ]
  },
  {
   "cell_type": "code",
   "execution_count": 87,
   "id": "5632711b",
   "metadata": {},
   "outputs": [
    {
     "name": "stdout",
     "output_type": "stream",
     "text": [
      "[0.4901673757525514, 0.5079542099813259, -0.09702884694147967, 0.04228131251228323, 0.07106827400675711, 0.04544937696160958, -0.0604662578636809, 0.004130571724878296, -0.02120610149556118]\n",
      "0.982349914638684\n",
      "[0.45767759]\n",
      "[[266.11358774]]\n"
     ]
    }
   ],
   "source": [
    "l1= x_train_scaled[3,:] #taking any random row from dataset to check linear regression\n",
    "l2= model1.coef_.flatten().tolist()\n",
    "print(l2)\n",
    "print(sum(l2))\n",
    "\n",
    "y1=0 # y = m1*x1 + m2*x2 + m3*x3...+c\n",
    "for (i,j) in zip(l1, l2):\n",
    "    y1 += (i*j)\n",
    "    \n",
    "print(y1+model1.intercept_)    \n",
    "pr = model1.predict(l1.reshape(1,-1))\n",
    "print(scaler.inverse_transform(pr)) "
   ]
  },
  {
   "cell_type": "code",
   "execution_count": 88,
   "id": "ff3f9eee",
   "metadata": {},
   "outputs": [
    {
     "name": "stdout",
     "output_type": "stream",
     "text": [
      "[0.7792560265261455, 0.5145973832447501, -0.4793080050590515, 0.30641815617187823, 0.2909118456899074, 0.5007315546613954, -13.522647136872036, 0.10353630074655298, -0.17388333183333363]\n",
      "-11.680387206723791\n",
      "[419.43163988]\n",
      "[[419.43163988]]\n"
     ]
    }
   ],
   "source": [
    "mode=LinearRegression()\n",
    "mode.fit(x_train, y_train) #un-scaled values\n",
    "\n",
    "l1= np.array(df.iloc[3, :9])\n",
    "l2= mode.coef_.flatten().tolist()\n",
    "print(l2)\n",
    "print(sum(l2))\n",
    "\n",
    "y2=0\n",
    "for (i,j) in zip(l1, l2):\n",
    "    y2=y2+(i* j)\n",
    "\n",
    "print(y2+mode.intercept_)    \n",
    "print(mode.predict(l1.reshape(1,-1)))    "
   ]
  }
 ],
 "metadata": {
  "kernelspec": {
   "display_name": "Python 3 (ipykernel)",
   "language": "python",
   "name": "python3"
  },
  "language_info": {
   "codemirror_mode": {
    "name": "ipython",
    "version": 3
   },
   "file_extension": ".py",
   "mimetype": "text/x-python",
   "name": "python",
   "nbconvert_exporter": "python",
   "pygments_lexer": "ipython3",
   "version": "3.9.12"
  }
 },
 "nbformat": 4,
 "nbformat_minor": 5
}
