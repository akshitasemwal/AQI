{
 "cells": [
  {
   "cell_type": "code",
   "execution_count": 33,
   "id": "27e23c9b",
   "metadata": {},
   "outputs": [],
   "source": [
    "import pandas as pd\n",
    "import seaborn as sb\n",
    "\n",
    "from scipy import stats\n",
    "import numpy as np\n",
    "\n",
    "from sklearn.model_selection import train_test_split\n",
    "from sklearn.model_selection import cross_val_score\n",
    "from sklearn.metrics import classification_report, confusion_matrix, accuracy_score\n",
    "\n",
    "from sklearn.linear_model import LogisticRegression\n",
    "from sklearn.preprocessing import StandardScaler"
   ]
  },
  {
   "cell_type": "code",
   "execution_count": 8,
   "id": "5ef18aeb",
   "metadata": {},
   "outputs": [
    {
     "data": {
      "text/html": [
       "<div>\n",
       "<style scoped>\n",
       "    .dataframe tbody tr th:only-of-type {\n",
       "        vertical-align: middle;\n",
       "    }\n",
       "\n",
       "    .dataframe tbody tr th {\n",
       "        vertical-align: top;\n",
       "    }\n",
       "\n",
       "    .dataframe thead th {\n",
       "        text-align: right;\n",
       "    }\n",
       "</style>\n",
       "<table border=\"1\" class=\"dataframe\">\n",
       "  <thead>\n",
       "    <tr style=\"text-align: right;\">\n",
       "      <th></th>\n",
       "      <th>City</th>\n",
       "      <th>Date</th>\n",
       "      <th>PM2.5</th>\n",
       "      <th>PM10</th>\n",
       "      <th>NO</th>\n",
       "      <th>NO2</th>\n",
       "      <th>NOx</th>\n",
       "      <th>NH3</th>\n",
       "      <th>CO</th>\n",
       "      <th>SO2</th>\n",
       "      <th>O3</th>\n",
       "      <th>AQI</th>\n",
       "    </tr>\n",
       "  </thead>\n",
       "  <tbody>\n",
       "    <tr>\n",
       "      <th>0</th>\n",
       "      <td>Delhi</td>\n",
       "      <td>01-01-2018</td>\n",
       "      <td>303.41</td>\n",
       "      <td>415.09</td>\n",
       "      <td>62.76</td>\n",
       "      <td>63.92</td>\n",
       "      <td>11.79</td>\n",
       "      <td>73.16</td>\n",
       "      <td>1.80</td>\n",
       "      <td>18.58</td>\n",
       "      <td>68.75</td>\n",
       "      <td>462</td>\n",
       "    </tr>\n",
       "    <tr>\n",
       "      <th>1</th>\n",
       "      <td>Delhi</td>\n",
       "      <td>01-02-2018</td>\n",
       "      <td>277.48</td>\n",
       "      <td>422.59</td>\n",
       "      <td>31.26</td>\n",
       "      <td>53.73</td>\n",
       "      <td>4.26</td>\n",
       "      <td>55.61</td>\n",
       "      <td>1.52</td>\n",
       "      <td>12.43</td>\n",
       "      <td>68.68</td>\n",
       "      <td>439</td>\n",
       "    </tr>\n",
       "    <tr>\n",
       "      <th>2</th>\n",
       "      <td>Delhi</td>\n",
       "      <td>01-03-2018</td>\n",
       "      <td>217.01</td>\n",
       "      <td>336.87</td>\n",
       "      <td>37.98</td>\n",
       "      <td>52.24</td>\n",
       "      <td>2.87</td>\n",
       "      <td>50.81</td>\n",
       "      <td>1.29</td>\n",
       "      <td>10.28</td>\n",
       "      <td>54.94</td>\n",
       "      <td>405</td>\n",
       "    </tr>\n",
       "    <tr>\n",
       "      <th>3</th>\n",
       "      <td>Delhi</td>\n",
       "      <td>01-04-2018</td>\n",
       "      <td>248.54</td>\n",
       "      <td>377.61</td>\n",
       "      <td>35.56</td>\n",
       "      <td>61.57</td>\n",
       "      <td>4.24</td>\n",
       "      <td>55.17</td>\n",
       "      <td>1.36</td>\n",
       "      <td>14.42</td>\n",
       "      <td>66.31</td>\n",
       "      <td>394</td>\n",
       "    </tr>\n",
       "    <tr>\n",
       "      <th>4</th>\n",
       "      <td>Delhi</td>\n",
       "      <td>01-05-2018</td>\n",
       "      <td>240.42</td>\n",
       "      <td>360.99</td>\n",
       "      <td>38.73</td>\n",
       "      <td>54.80</td>\n",
       "      <td>4.57</td>\n",
       "      <td>51.36</td>\n",
       "      <td>1.38</td>\n",
       "      <td>13.20</td>\n",
       "      <td>48.57</td>\n",
       "      <td>398</td>\n",
       "    </tr>\n",
       "  </tbody>\n",
       "</table>\n",
       "</div>"
      ],
      "text/plain": [
       "    City        Date   PM2.5    PM10     NO    NO2    NOx    NH3    CO    SO2  \\\n",
       "0  Delhi  01-01-2018  303.41  415.09  62.76  63.92  11.79  73.16  1.80  18.58   \n",
       "1  Delhi  01-02-2018  277.48  422.59  31.26  53.73   4.26  55.61  1.52  12.43   \n",
       "2  Delhi  01-03-2018  217.01  336.87  37.98  52.24   2.87  50.81  1.29  10.28   \n",
       "3  Delhi  01-04-2018  248.54  377.61  35.56  61.57   4.24  55.17  1.36  14.42   \n",
       "4  Delhi  01-05-2018  240.42  360.99  38.73  54.80   4.57  51.36  1.38  13.20   \n",
       "\n",
       "      O3  AQI  \n",
       "0  68.75  462  \n",
       "1  68.68  439  \n",
       "2  54.94  405  \n",
       "3  66.31  394  \n",
       "4  48.57  398  "
      ]
     },
     "execution_count": 8,
     "metadata": {},
     "output_type": "execute_result"
    }
   ],
   "source": [
    "df=pd.read_csv(r\"C:\\Users\\akshita\\Downloads\\DelhiAQI.csv\")\n",
    "df.head()"
   ]
  },
  {
   "cell_type": "code",
   "execution_count": 9,
   "id": "5cadad70",
   "metadata": {},
   "outputs": [
    {
     "name": "stdout",
     "output_type": "stream",
     "text": [
      "      PM2.5    PM10     NO    NO2    NOx    NH3    CO    SO2     O3  AQI\n",
      "0    303.41  415.09  62.76  63.92  11.79  73.16  1.80  18.58  68.75  462\n",
      "1    277.48  422.59  31.26  53.73   4.26  55.61  1.52  12.43  68.68  439\n",
      "2    217.01  336.87  37.98  52.24   2.87  50.81  1.29  10.28  54.94  405\n",
      "3    248.54  377.61  35.56  61.57   4.24  55.17  1.36  14.42  66.31  394\n",
      "4    240.42  360.99  38.73  54.80   4.57  51.36  1.38  13.20  48.57  398\n",
      "..      ...     ...    ...    ...    ...    ...   ...    ...    ...  ...\n",
      "908   39.80  155.94  10.88  21.46  22.47  31.43  0.87  10.38  18.88  112\n",
      "909   59.52  308.65  12.67  21.60  23.86  29.27  0.94  10.70  18.05  196\n",
      "910   44.86  184.12  10.50  21.57  21.94  27.97  0.88  11.58  26.61  233\n",
      "911   39.80   91.98   5.99  17.96  15.44  28.48  0.84  10.51  37.29  114\n",
      "912   54.01  128.66   6.33  21.05  16.81  29.06  0.97  11.15  29.73  101\n",
      "\n",
      "[913 rows x 10 columns]\n"
     ]
    }
   ],
   "source": [
    "df= df.drop(['City','Date'], axis=1)\n",
    "print(df)"
   ]
  },
  {
   "cell_type": "code",
   "execution_count": 10,
   "id": "4b1425bd",
   "metadata": {},
   "outputs": [
    {
     "data": {
      "text/html": [
       "<div>\n",
       "<style scoped>\n",
       "    .dataframe tbody tr th:only-of-type {\n",
       "        vertical-align: middle;\n",
       "    }\n",
       "\n",
       "    .dataframe tbody tr th {\n",
       "        vertical-align: top;\n",
       "    }\n",
       "\n",
       "    .dataframe thead th {\n",
       "        text-align: right;\n",
       "    }\n",
       "</style>\n",
       "<table border=\"1\" class=\"dataframe\">\n",
       "  <thead>\n",
       "    <tr style=\"text-align: right;\">\n",
       "      <th></th>\n",
       "      <th>PM2.5</th>\n",
       "      <th>PM10</th>\n",
       "      <th>NO</th>\n",
       "      <th>NO2</th>\n",
       "      <th>NOx</th>\n",
       "      <th>NH3</th>\n",
       "      <th>CO</th>\n",
       "      <th>SO2</th>\n",
       "      <th>O3</th>\n",
       "      <th>AQI</th>\n",
       "    </tr>\n",
       "  </thead>\n",
       "  <tbody>\n",
       "    <tr>\n",
       "      <th>count</th>\n",
       "      <td>913.000000</td>\n",
       "      <td>913.000000</td>\n",
       "      <td>913.00000</td>\n",
       "      <td>913.000000</td>\n",
       "      <td>913.000000</td>\n",
       "      <td>913.000000</td>\n",
       "      <td>913.000000</td>\n",
       "      <td>913.000000</td>\n",
       "      <td>913.000000</td>\n",
       "      <td>913.000000</td>\n",
       "    </tr>\n",
       "    <tr>\n",
       "      <th>mean</th>\n",
       "      <td>105.458171</td>\n",
       "      <td>213.439157</td>\n",
       "      <td>31.97747</td>\n",
       "      <td>43.098346</td>\n",
       "      <td>51.963604</td>\n",
       "      <td>38.338368</td>\n",
       "      <td>1.322881</td>\n",
       "      <td>13.852180</td>\n",
       "      <td>41.454918</td>\n",
       "      <td>228.813801</td>\n",
       "    </tr>\n",
       "    <tr>\n",
       "      <th>std</th>\n",
       "      <td>77.477643</td>\n",
       "      <td>116.910831</td>\n",
       "      <td>26.56564</td>\n",
       "      <td>15.931366</td>\n",
       "      <td>30.946864</td>\n",
       "      <td>9.813347</td>\n",
       "      <td>0.562686</td>\n",
       "      <td>4.226043</td>\n",
       "      <td>12.438408</td>\n",
       "      <td>113.960050</td>\n",
       "    </tr>\n",
       "    <tr>\n",
       "      <th>min</th>\n",
       "      <td>10.240000</td>\n",
       "      <td>19.510000</td>\n",
       "      <td>4.42000</td>\n",
       "      <td>14.360000</td>\n",
       "      <td>1.870000</td>\n",
       "      <td>19.900000</td>\n",
       "      <td>0.520000</td>\n",
       "      <td>6.180000</td>\n",
       "      <td>16.510000</td>\n",
       "      <td>51.000000</td>\n",
       "    </tr>\n",
       "    <tr>\n",
       "      <th>25%</th>\n",
       "      <td>49.960000</td>\n",
       "      <td>120.820000</td>\n",
       "      <td>13.19000</td>\n",
       "      <td>30.730000</td>\n",
       "      <td>29.360000</td>\n",
       "      <td>30.860000</td>\n",
       "      <td>0.930000</td>\n",
       "      <td>10.440000</td>\n",
       "      <td>31.560000</td>\n",
       "      <td>129.000000</td>\n",
       "    </tr>\n",
       "    <tr>\n",
       "      <th>50%</th>\n",
       "      <td>81.870000</td>\n",
       "      <td>193.790000</td>\n",
       "      <td>22.50000</td>\n",
       "      <td>41.230000</td>\n",
       "      <td>43.920000</td>\n",
       "      <td>36.610000</td>\n",
       "      <td>1.160000</td>\n",
       "      <td>13.250000</td>\n",
       "      <td>40.160000</td>\n",
       "      <td>208.000000</td>\n",
       "    </tr>\n",
       "    <tr>\n",
       "      <th>75%</th>\n",
       "      <td>137.290000</td>\n",
       "      <td>281.530000</td>\n",
       "      <td>40.92000</td>\n",
       "      <td>54.010000</td>\n",
       "      <td>66.400000</td>\n",
       "      <td>44.470000</td>\n",
       "      <td>1.520000</td>\n",
       "      <td>16.550000</td>\n",
       "      <td>50.560000</td>\n",
       "      <td>306.000000</td>\n",
       "    </tr>\n",
       "    <tr>\n",
       "      <th>max</th>\n",
       "      <td>582.280000</td>\n",
       "      <td>761.910000</td>\n",
       "      <td>158.63000</td>\n",
       "      <td>106.040000</td>\n",
       "      <td>195.810000</td>\n",
       "      <td>75.880000</td>\n",
       "      <td>3.660000</td>\n",
       "      <td>33.500000</td>\n",
       "      <td>76.320000</td>\n",
       "      <td>659.000000</td>\n",
       "    </tr>\n",
       "  </tbody>\n",
       "</table>\n",
       "</div>"
      ],
      "text/plain": [
       "            PM2.5        PM10         NO         NO2         NOx         NH3  \\\n",
       "count  913.000000  913.000000  913.00000  913.000000  913.000000  913.000000   \n",
       "mean   105.458171  213.439157   31.97747   43.098346   51.963604   38.338368   \n",
       "std     77.477643  116.910831   26.56564   15.931366   30.946864    9.813347   \n",
       "min     10.240000   19.510000    4.42000   14.360000    1.870000   19.900000   \n",
       "25%     49.960000  120.820000   13.19000   30.730000   29.360000   30.860000   \n",
       "50%     81.870000  193.790000   22.50000   41.230000   43.920000   36.610000   \n",
       "75%    137.290000  281.530000   40.92000   54.010000   66.400000   44.470000   \n",
       "max    582.280000  761.910000  158.63000  106.040000  195.810000   75.880000   \n",
       "\n",
       "               CO         SO2          O3         AQI  \n",
       "count  913.000000  913.000000  913.000000  913.000000  \n",
       "mean     1.322881   13.852180   41.454918  228.813801  \n",
       "std      0.562686    4.226043   12.438408  113.960050  \n",
       "min      0.520000    6.180000   16.510000   51.000000  \n",
       "25%      0.930000   10.440000   31.560000  129.000000  \n",
       "50%      1.160000   13.250000   40.160000  208.000000  \n",
       "75%      1.520000   16.550000   50.560000  306.000000  \n",
       "max      3.660000   33.500000   76.320000  659.000000  "
      ]
     },
     "execution_count": 10,
     "metadata": {},
     "output_type": "execute_result"
    }
   ],
   "source": [
    "df.describe()"
   ]
  },
  {
   "cell_type": "code",
   "execution_count": 11,
   "id": "ec72eb9a",
   "metadata": {},
   "outputs": [
    {
     "data": {
      "text/plain": [
       "PM2.5    211.250\n",
       "PM10     370.826\n",
       "Name: 0.9, dtype: float64"
      ]
     },
     "execution_count": 11,
     "metadata": {},
     "output_type": "execute_result"
    }
   ],
   "source": [
    "df[['PM2.5','PM10']].quantile(0.9)"
   ]
  },
  {
   "cell_type": "code",
   "execution_count": 12,
   "id": "4f3ed35f",
   "metadata": {},
   "outputs": [
    {
     "data": {
      "image/png": "[encoded data removed]",
      "text/plain": [
       "<Figure size 640x480 with 2 Axes>"
      ]
     },
     "metadata": {},
     "output_type": "display_data"
    }
   ],
   "source": [
    "dataplot=sb.heatmap(df.corr())"
   ]
  },
  {
   "cell_type": "code",
   "execution_count": 13,
   "id": "31fc3ba3",
   "metadata": {},
   "outputs": [
    {
     "name": "stdout",
     "output_type": "stream",
     "text": [
      "(array([308, 311, 356, 357, 367, 381, 669, 671, 680, 681, 682, 683, 730],\n",
      "      dtype=int64),)\n",
      "(array([163, 164, 165, 669, 671, 683], dtype=int64),)\n",
      "(array([298, 299, 330, 331, 335, 336, 337, 338, 339, 353, 356, 357, 363,\n",
      "       375, 376, 384, 400, 703, 731], dtype=int64),)\n",
      "(array([ 40,  51, 384, 689, 703], dtype=int64),)\n"
     ]
    }
   ],
   "source": [
    "zscore1= np.abs(stats.zscore(df['PM2.5']))\n",
    "print(np.where(zscore1>3))\n",
    "\n",
    "zscore2= np.abs(stats.zscore(df['PM10']))\n",
    "print(np.where(zscore2>3))\n",
    "\n",
    "zscore3= np.abs(stats.zscore(df['NO']))\n",
    "print(np.where(zscore3>3))\n",
    "\n",
    "zscore4= np.abs(stats.zscore(df['NO2']))\n",
    "print(np.where(zscore4>3))"
   ]
  },
  {
   "cell_type": "code",
   "execution_count": 14,
   "id": "330b69bc",
   "metadata": {},
   "outputs": [],
   "source": [
    "for i in np.where((zscore1>3) | (zscore2>3) | (zscore3>3) | (zscore4>3)):\n",
    "    df.drop(i, inplace=True)"
   ]
  },
  {
   "cell_type": "code",
   "execution_count": 15,
   "id": "40670474",
   "metadata": {},
   "outputs": [
    {
     "name": "stdout",
     "output_type": "stream",
     "text": [
      "New dimensions: (877, 10)\n"
     ]
    }
   ],
   "source": [
    "print(\"New dimensions:\", df.shape)"
   ]
  },
  {
   "cell_type": "code",
   "execution_count": 16,
   "id": "d5fe4b94",
   "metadata": {},
   "outputs": [],
   "source": [
    "X= df.drop(['AQI'], axis=1)\n",
    "y= df[['AQI']]\n",
    "\n",
    "x_train, x_test, y_train, y_test= train_test_split(X, y, train_size=0.8, random_state=42)"
   ]
  },
  {
   "cell_type": "code",
   "execution_count": 17,
   "id": "92238cad",
   "metadata": {},
   "outputs": [],
   "source": [
    "scaler=StandardScaler()\n",
    "\n",
    "x_train_scaled=scaler.fit_transform(x_train)\n",
    "x_test_scaled=scaler.transform(x_test)"
   ]
  },
  {
   "cell_type": "markdown",
   "id": "ecf38aea",
   "metadata": {},
   "source": [
    "# Logistic regression"
   ]
  },
  {
   "cell_type": "code",
   "execution_count": 36,
   "id": "ae713974",
   "metadata": {},
   "outputs": [
    {
     "name": "stderr",
     "output_type": "stream",
     "text": [
      "C:\\Users\\akshita\\anaconda3\\lib\\site-packages\\sklearn\\utils\\validation.py:993: DataConversionWarning: A column-vector y was passed when a 1d array was expected. Please change the shape of y to (n_samples, ), for example using ravel().\n",
      "  y = column_or_1d(y, warn=True)\n"
     ]
    },
    {
     "name": "stdout",
     "output_type": "stream",
     "text": [
      "Classification report: [[0 0 0 ... 0 0 0]\n",
      " [0 0 0 ... 0 0 0]\n",
      " [0 0 0 ... 0 0 0]\n",
      " ...\n",
      " [0 0 0 ... 0 0 0]\n",
      " [0 0 0 ... 0 0 0]\n",
      " [0 0 0 ... 1 0 0]]\n",
      "Accuracy of Linear Regression: 0.011363636363636364\n"
     ]
    },
    {
     "name": "stderr",
     "output_type": "stream",
     "text": [
      "C:\\Users\\akshita\\anaconda3\\lib\\site-packages\\sklearn\\linear_model\\_logistic.py:814: ConvergenceWarning: lbfgs failed to converge (status=1):\n",
      "STOP: TOTAL NO. of ITERATIONS REACHED LIMIT.\n",
      "\n",
      "Increase the number of iterations (max_iter) or scale the data as shown in:\n",
      "    https://scikit-learn.org/stable/modules/preprocessing.html\n",
      "Please also refer to the documentation for alternative solver options:\n",
      "    https://scikit-learn.org/stable/modules/linear_model.html#logistic-regression\n",
      "  n_iter_i = _check_optimize_result(\n"
     ]
    }
   ],
   "source": [
    "model=LogisticRegression()\n",
    "model.fit(x_train_scaled,y_train)\n",
    "y_pred=model.predict(x_test_scaled)\n",
    "\n",
    "print(\"Classification report:\",confusion_matrix(y_test, y_pred))\n",
    "#print(\"Cross validation accuracy:\", cross_val_score(y_pred, x_train_scaled, y, cv=50))\n",
    "print(\"Accuracy of Linear Regression:\",accuracy_score(y_test, y_pred))"
   ]
  },
  {
   "cell_type": "code",
   "execution_count": null,
   "id": "b0cde4cc",
   "metadata": {
    "scrolled": true
   },
   "outputs": [],
   "source": [
    "\n"
   ]
  },
  {
   "cell_type": "code",
   "execution_count": 69,
   "id": "16f0fddf",
   "metadata": {},
   "outputs": [],
   "source": []
  },
  {
   "cell_type": "code",
   "execution_count": null,
   "id": "ca218735",
   "metadata": {},
   "outputs": [],
   "source": []
  },
  {
   "cell_type": "code",
   "execution_count": 62,
   "id": "4e5ef36d",
   "metadata": {},
   "outputs": [],
   "source": []
  },
  {
   "cell_type": "code",
   "execution_count": null,
   "id": "edbed025",
   "metadata": {},
   "outputs": [],
   "source": []
  }
 ],
 "metadata": {
  "kernelspec": {
   "display_name": "Python 3 (ipykernel)",
   "language": "python",
   "name": "python3"
  },
  "language_info": {
   "codemirror_mode": {
    "name": "ipython",
    "version": 3
   },
   "file_extension": ".py",
   "mimetype": "text/x-python",
   "name": "python",
   "nbconvert_exporter": "python",
   "pygments_lexer": "ipython3",
   "version": "3.9.13"
  }
 },
 "nbformat": 4,
 "nbformat_minor": 5
}
